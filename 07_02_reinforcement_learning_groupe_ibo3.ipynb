{
 "cells": [
  {
   "cell_type": "code",
   "execution_count": 275,
   "metadata": {},
   "outputs": [],
   "source": [
    "#                      x    y\n",
    "actions = {\"droite\" : (+1 , 0),\n",
    "           \"gauche\" : (-1 , 0),\n",
    "           \"bas\"    : ( 0 , -1),\n",
    "           \"haut\"   : ( 0 , +1)}\n",
    "\n",
    "class environnement:\n",
    "    def __init__(self):\n",
    "        self.x_max = 4\n",
    "        self.x_min = 0\n",
    "        self.y_max = 4\n",
    "        self.y_min = 0\n",
    "    def get_next_position(self, current_x,current_y, action :str):\n",
    "        # action = \"haut\" / \"bas\" ...\n",
    "        move_x = actions[action][0]\n",
    "        move_y = actions[action][1]\n",
    "        next_x = current_x + move_x\n",
    "        next_y = current_y + move_y\n",
    "        if next_x < self.x_min: next_x = self.x_min\n",
    "        if next_y < self.y_min: next_y = self.y_min\n",
    "        if next_x > self.x_max: next_x = self.x_max\n",
    "        if next_y > self.y_max: next_y = self.y_max\n",
    "        return next_x, next_y\n",
    "    \n",
    "    def get_reward(self, x, y):\n",
    "        pieges = [(0,1), (1,1), (2, 1)]\n",
    "        but    = [(2,2)]\n",
    "        if (x,y) in pieges : return -1\n",
    "        if (x,y) in but    : return 10\n",
    "        return 0\n",
    "        \n",
    "    def est_fini(self, x,y):\n",
    "        return self.get_reward(x,y) in [-1, 10]\n",
    "    \n",
    "    def get_etape(self, current_x, current_y, action):\n",
    "        next_x, next_y = self.get_next_position(current_x, current_y, action)\n",
    "        reward         = self.get_reward(next_x, next_y)\n",
    "        est_fini       = self.est_fini(next_x, next_y)\n",
    "        return (next_x, next_y, reward, est_fini)"
   ]
  },
  {
   "cell_type": "code",
   "execution_count": 276,
   "metadata": {},
   "outputs": [],
   "source": [
    "class agent:\n",
    "    def __init__(self):\n",
    "        self.actions    = [\"droite\" , \"gauche\", \"bas\", \"haut\"]\n",
    "        self.q_function = {(x,y):{ \"droite\" : 0, \n",
    "                                   \"gauche\" : 0, \n",
    "                                   \"bas\"    : 0, \n",
    "                                   \"haut\"   : 0} for x in range(5) for y in range(5) }\n",
    "        self.current_x =0\n",
    "        self.current_y =0\n",
    "    def reset_position(self):\n",
    "        self.current_x =0\n",
    "        self.current_y =0\n",
    "    def get_action(self):\n",
    "        import random\n",
    "        return random.choice(self.actions)\n",
    "        "
   ]
  },
  {
   "cell_type": "code",
   "execution_count": 277,
   "metadata": {},
   "outputs": [],
   "source": [
    "def create_episode(env, agent):\n",
    "    episode = []\n",
    "    fini    = env.est_fini(agent.current_x, agent.current_y)\n",
    "    max_iter = 1000\n",
    "    \n",
    "    while not fini and max_iter>0:\n",
    "        current_x, current_y         = agent.current_x, agent.current_y\n",
    "        next_action                  = agent.get_action()\n",
    "        next_x, next_y, reward, fini = env.get_etape(agent.current_x, agent.current_y, next_action)\n",
    "        agent.current_x = next_x\n",
    "        agent.current_y = next_y\n",
    "        episode.append({  \"current_x\"   : current_x, \n",
    "                          \"current_y\"   : current_y, \n",
    "                          \"next_action\" : next_action, \n",
    "                          \"reward\"      : reward, \n",
    "                          \"fini\"        : fini })\n",
    "        max_iter -=1\n",
    "    return episode\n",
    "        \n",
    "        \n",
    "\n",
    "        "
   ]
  },
  {
   "cell_type": "code",
   "execution_count": 278,
   "metadata": {},
   "outputs": [],
   "source": [
    "import pprint"
   ]
  },
  {
   "cell_type": "code",
   "execution_count": 279,
   "metadata": {
    "scrolled": false
   },
   "outputs": [],
   "source": [
    "a           = agent()\n",
    "env         = environnement()\n",
    "rewards = []\n",
    "for Nieme_episode in range(200000):\n",
    "    a.reset_position()\n",
    "    episode     = create_episode(env, a)\n",
    "    last_reward = episode[-1][\"reward\"]\n",
    "    episode, last_reward\n",
    "    for  dico in episode:\n",
    "        x      = dico[\"current_x\"  ]\n",
    "        y      = dico[\"current_y\"  ]\n",
    "        action = dico[\"next_action\"]\n",
    "        a.q_function[(x,y)][action] += last_reward \n",
    "    rewards.append(last_reward)"
   ]
  },
  {
   "cell_type": "code",
   "execution_count": 280,
   "metadata": {},
   "outputs": [
    {
     "data": {
      "text/plain": [
       "{(0, 0): {'droite': -74648,\n",
       "  'gauche': -100271,\n",
       "  'bas': -100485,\n",
       "  'haut': -124244},\n",
       " (0, 1): {'droite': 0, 'gauche': 0, 'bas': 0, 'haut': 0},\n",
       " (0, 2): {'droite': 935, 'gauche': 608, 'bas': -237, 'haut': 963},\n",
       " (0, 3): {'droite': 2764, 'gauche': 2230, 'bas': 1252, 'haut': 2255},\n",
       " (0, 4): {'droite': 3389, 'gauche': 2885, 'bas': 2616, 'haut': 2699},\n",
       " (1, 0): {'droite': -465, 'gauche': -38514, 'bas': -29098, 'haut': -47698},\n",
       " (1, 1): {'droite': 0, 'gauche': 0, 'bas': 0, 'haut': 0},\n",
       " (1, 2): {'droite': 2100, 'gauche': 409, 'bas': -202, 'haut': 1075},\n",
       " (1, 3): {'droite': 4089, 'gauche': 2692, 'bas': 2447, 'haut': 3256},\n",
       " (1, 4): {'droite': 5025, 'gauche': 3750, 'bas': 3826, 'haut': 3693},\n",
       " (2, 0): {'droite': 30315, 'gauche': -12029, 'bas': -111, 'haut': -19437},\n",
       " (2, 1): {'droite': 0, 'gauche': 0, 'bas': 0, 'haut': 0},\n",
       " (2, 2): {'droite': 0, 'gauche': 0, 'bas': 0, 'haut': 0},\n",
       " (2, 3): {'droite': 5517, 'gauche': 4819, 'bas': 9420, 'haut': 5562},\n",
       " (2, 4): {'droite': 6999, 'gauche': 5956, 'bas': 8237, 'haut': 6867},\n",
       " (3, 0): {'droite': 25051, 'gauche': -686, 'bas': 18153, 'haut': 26219},\n",
       " (3, 1): {'droite': 14859, 'gauche': -4580, 'bas': 7619, 'haut': 26732},\n",
       " (3, 2): {'droite': 12234, 'gauche': 24500, 'bas': 5638, 'haut': 15227},\n",
       " (3, 3): {'droite': 10534, 'gauche': 12992, 'bas': 11123, 'haut': 11606},\n",
       " (3, 4): {'droite': 9910, 'gauche': 10605, 'bas': 10392, 'haut': 10722},\n",
       " (4, 0): {'droite': 17268, 'gauche': 12650, 'bas': 18628, 'haut': 24427},\n",
       " (4, 1): {'droite': 16782, 'gauche': 12773, 'bas': 12026, 'haut': 25718},\n",
       " (4, 2): {'droite': 17134, 'gauche': 19744, 'bas': 11231, 'haut': 18425},\n",
       " (4, 3): {'droite': 14108, 'gauche': 15119, 'bas': 11448, 'haut': 14593},\n",
       " (4, 4): {'droite': 12483, 'gauche': 12302, 'bas': 12201, 'haut': 11601}}"
      ]
     },
     "execution_count": 280,
     "metadata": {},
     "output_type": "execute_result"
    }
   ],
   "source": [
    "a.q_function"
   ]
  },
  {
   "cell_type": "code",
   "execution_count": 281,
   "metadata": {},
   "outputs": [],
   "source": [
    "def get_policy(q_function):\n",
    "    policy = {}\n",
    "    for x_y in q_function.keys():\n",
    "        dico        = q_function[x_y]\n",
    "        (action, _) = sorted([(k, dico[k]) for k in dico.keys()], key=lambda tuple_: tuple_[1])[-1]\n",
    "        policy[x_y] = action\n",
    "    return policy"
   ]
  },
  {
   "cell_type": "code",
   "execution_count": 282,
   "metadata": {},
   "outputs": [],
   "source": [
    "policy = get_policy(a.q_function)"
   ]
  },
  {
   "cell_type": "code",
   "execution_count": 283,
   "metadata": {},
   "outputs": [],
   "source": [
    "import random"
   ]
  },
  {
   "cell_type": "code",
   "execution_count": 284,
   "metadata": {},
   "outputs": [
    {
     "name": "stdout",
     "output_type": "stream",
     "text": [
      "3 2 gauche\treward =  10\n"
     ]
    }
   ],
   "source": [
    "positions = []\n",
    "x_alea, y_alea = random.randint(0, 4), random.randint(0, 4)\n",
    "\n",
    "a.current_x = x_alea\n",
    "a.current_y = y_alea\n",
    "\n",
    "while not env.est_fini(a.current_x, a.current_y):\n",
    "    je_joue                  = policy [(a.current_x, a.current_y)]\n",
    "    print(a.current_x, a.current_y, je_joue, end=\"\\t\")\n",
    "    a.current_x, a.current_y = env.get_next_position(a.current_x, a.current_y, je_joue)\n",
    "    reward                   = env.get_reward(a.current_x, a.current_y)\n",
    "    print(\"reward = \",  reward )\n",
    "    "
   ]
  },
  {
   "cell_type": "code",
   "execution_count": 285,
   "metadata": {},
   "outputs": [],
   "source": [
    "a.current_x, a.current_y = env.get_next_position(a.current_x, a.current_y, je_joue)\n"
   ]
  },
  {
   "cell_type": "code",
   "execution_count": 286,
   "metadata": {},
   "outputs": [],
   "source": [
    "import pandas as pd"
   ]
  },
  {
   "cell_type": "code",
   "execution_count": 287,
   "metadata": {},
   "outputs": [],
   "source": [
    "from matplotlib import pyplot as plt\n",
    "import numpy as np\n",
    "cmap = plt.get_cmap('viridis')\n",
    "names = [\"droite\", \"gauche\", \"bas\", \"haut\"]\n",
    "colors = cmap(np.linspace(0, 1, len(names)))"
   ]
  },
  {
   "cell_type": "code",
   "execution_count": 288,
   "metadata": {},
   "outputs": [],
   "source": [
    "df_pi         = pd.DataFrame.from_dict(policy , orient=\"index\").reset_index()\n",
    "df_pi.columns = [\"position\", \"action\"]\n",
    "\n",
    "df_pi[\"x\"] = df_pi.position.map(lambda x : x[0])\n",
    "df_pi[\"y\"] = df_pi.position.map(lambda x : x[1])\n",
    "colors = {\"droite\": \"green\", \"haut\":\"blue\", \"gauche\":\"cyan\", \"bas\":\"yellow\"}\n",
    "colors = {\"droite\": 1, \"haut\":2, \"gauche\":3, \"bas\":4}\n",
    "\n",
    "df_pi.action = df_pi.action.map(colors)"
   ]
  },
  {
   "cell_type": "code",
   "execution_count": 289,
   "metadata": {},
   "outputs": [],
   "source": [
    "pivot = df_pi.pivot_table(index=\"y\", columns=\"x\", values=\"action\", )\n",
    "pivot = pivot.sort_index(ascending=False)"
   ]
  },
  {
   "cell_type": "code",
   "execution_count": 290,
   "metadata": {},
   "outputs": [
    {
     "data": {
      "text/plain": [
       "<matplotlib.axes._subplots.AxesSubplot at 0x1a1da8d908>"
      ]
     },
     "execution_count": 290,
     "metadata": {},
     "output_type": "execute_result"
    },
    {
     "data": {
      "image/png": "[encoded data removed]",
      "text/plain": [
       "<Figure size 432x288 with 2 Axes>"
      ]
     },
     "metadata": {},
     "output_type": "display_data"
    }
   ],
   "source": [
    "import seaborn as sns\n",
    "sns.heatmap(pivot, cmap=[\"green\", \"red\", \"blue\", \"cyan\"])"
   ]
  },
  {
   "cell_type": "code",
   "execution_count": 291,
   "metadata": {},
   "outputs": [
    {
     "data": {
      "text/plain": [
       "{(0, 0): 'droite',\n",
       " (0, 1): 'haut',\n",
       " (0, 2): 'haut',\n",
       " (0, 3): 'droite',\n",
       " (0, 4): 'droite',\n",
       " (1, 0): 'droite',\n",
       " (1, 1): 'haut',\n",
       " (1, 2): 'droite',\n",
       " (1, 3): 'droite',\n",
       " (1, 4): 'droite',\n",
       " (2, 0): 'droite',\n",
       " (2, 1): 'haut',\n",
       " (2, 2): 'haut',\n",
       " (2, 3): 'bas',\n",
       " (2, 4): 'bas',\n",
       " (3, 0): 'haut',\n",
       " (3, 1): 'haut',\n",
       " (3, 2): 'gauche',\n",
       " (3, 3): 'gauche',\n",
       " (3, 4): 'haut',\n",
       " (4, 0): 'haut',\n",
       " (4, 1): 'haut',\n",
       " (4, 2): 'gauche',\n",
       " (4, 3): 'gauche',\n",
       " (4, 4): 'droite'}"
      ]
     },
     "execution_count": 291,
     "metadata": {},
     "output_type": "execute_result"
    }
   ],
   "source": [
    "policy"
   ]
  },
  {
   "cell_type": "code",
   "execution_count": null,
   "metadata": {},
   "outputs": [],
   "source": []
  }
 ],
 "metadata": {
  "kernelspec": {
   "display_name": "Python 3",
   "language": "python",
   "name": "python3"
  },
  "language_info": {
   "codemirror_mode": {
    "name": "ipython",
    "version": 3
   },
   "file_extension": ".py",
   "mimetype": "text/x-python",
   "name": "python",
   "nbconvert_exporter": "python",
   "pygments_lexer": "ipython3",
   "version": "3.6.5"
  }
 },
 "nbformat": 4,
 "nbformat_minor": 2
}
