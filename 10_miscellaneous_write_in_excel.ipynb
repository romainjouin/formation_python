{
 "cells": [
  {
   "cell_type": "markdown",
   "metadata": {},
   "source": [
    "# -1) imports"
   ]
  },
  {
   "cell_type": "code",
   "execution_count": 35,
   "metadata": {},
   "outputs": [],
   "source": [
    "class analyse_csv:\n",
    "    from openpyxl.styles import Color, Font, Style, colors, Fill\n",
    "    def get_style(font_color, filling_color):\n",
    "        from openpyxl.styles import PatternFill, Border, Side, Alignment, Protection, Font\n",
    "        from openpyxl.styles import colors\n",
    "        from openpyxl.styles import Font, Color\n",
    "        \n",
    "        from openpyxl.styles import Font\n",
    "        from openpyxl.styles.colors import RED\n",
    "        from openpyxl.styles import PatternFill\n",
    "        from openpyxl.styles import PatternFill\n",
    "        from openpyxl.styles import Color, Font, Style, colors, Fill\n",
    "        \n",
    "\n",
    "        filling = PatternFill(start_color=Color(filling_color), end_color=Color(filling_color), fill_type = \"solid\")\n",
    "        font    = Font(color=Color(font_color),b=True)\n",
    "        style   = Style(font=font, fill=filling)\n",
    "        return style\n",
    "\n",
    "    red_on_yellow   = get_style(colors.RED, colors.YELLOW)\n",
    "    red_on_white    = get_style(colors.RED, colors.WHITE)\n",
    "    red_on_black    = get_style(colors.RED, colors.BLACK)\n",
    "    black_on_white  = get_style(colors.BLACK, colors.WHITE)\n",
    "    black_on_yellow = get_style(colors.BLACK, colors.YELLOW)\n",
    "    white_on_green  = get_style(colors.WHITE, colors.GREEN)\n",
    "\n",
    "    def __init__(self, path):\n",
    "        from openpyxl        import Workbook, load_workbook\n",
    "        import math\n",
    "        self.path             = path#\"/Users/romain/Google Drive/ayming/projets_internes/AT_accidents_du_travail/desperanto/DATASCIENCE_RP_TABLE_DEMARCHE_analyse.xlsx\"\n",
    "        self.wb               = load_workbook(path)\n",
    "        self.ws               = self.wb.active\n",
    "        self.infos_nb_lignes  = self.ws[\"A1\"]\n",
    "\n",
    "        self.nb_lignes        = int(self.infos_nb_lignes.internal_value.split(\" \")[0])\n",
    "        self.nb_cols          = int(self.infos_nb_lignes.internal_value.split(\" \")[2])\n",
    "\n",
    "        self.nb_col_dans_xl   = 4\n",
    "        nb_ligne_dans_xl      = math.ceil(self.nb_cols/self.nb_col_dans_xl)\n",
    "\n",
    "        col_to_red            = [\"B\", \"E\", \"H\", \"K\", \"N\"]\n",
    "        test_for_nuls         = [\"C\", \"F\", \"I\", \"L\", \"O\"]\n",
    "        col_to_black          = [\"B\", \"C\", \"E\", \"F\",  \"H\", \"I\",  \"K\", \"L\",  \"N\",\"O\" ]\n",
    "        test_for_cat          = [\"C\", \"F\", \"I\", \"L\", \"O\"]\n",
    "        \n",
    "        self.cells_to_red     = [\"{col}{line}\".format(line=str(1+(15*i)), col=col) for i in range(nb_ligne_dans_xl)      for col in col_to_red]\n",
    "        self.cells_to_black   = [\"{col}{line}\".format(line=str(2+(15*i)), col=col) for i in range(nb_ligne_dans_xl)      for col in col_to_black]\n",
    "        self.cells_to_black_2 = [\"{col}{line}\".format(line=str(3+(15*i)), col=col) for i in range(5)                     for col in col_to_black]\n",
    "        self.cells_to_black   = self.cells_to_black+ self.cells_to_black_2\n",
    "        self.test_for_cat     = [\"{col}{line}\".format(line=str(2+(15*i)), col=col) for i in range(nb_ligne_dans_xl)      for col in test_for_cat]\n",
    "        self.test_for_nuls    = [\"{col}{line}\".format(line=str(3+(15*i)), col=col) for i in range(nb_ligne_dans_xl)      for col in test_for_nuls]\n",
    "\n",
    "        \n",
    "        cell_test_for_pct     = [\"D\", \"G\", \"J\", \"M\", \"P\"]\n",
    "\n",
    "        test_for_pct          = [\"{col}{line}\".format(line=str(4+(15*i)), col=col) for i in range(nb_ligne_dans_xl) for col in cell_test_for_pct]\n",
    "        test_for_pct          = [\"{col}{line}\".format(line=str(5+(15*i)), col=col) for i in range(nb_ligne_dans_xl) for col in cell_test_for_pct]+test_for_pct\n",
    "        test_for_pct          = [\"{col}{line}\".format(line=str(6+(15*i)), col=col) for i in range(nb_ligne_dans_xl) for col in cell_test_for_pct]+test_for_pct\n",
    "        self.test_for_pct     = [\"{col}{line}\".format(line=str(7+(15*i)), col=col) for i in range(nb_ligne_dans_xl) for col in cell_test_for_pct]+test_for_pct\n",
    "\n",
    "    def manage_cell_test_for_pct(self):\n",
    "        alphabet              = \"ABCDEFGHIJKLMNOPQRSTUVWXY\"\n",
    "        for nom_cell in self.test_for_pct:\n",
    "            try:\n",
    "                cell = self.ws[nom_cell]\n",
    "\n",
    "                if cell.internal_value:\n",
    "                    if float(cell.internal_value) > 0.2:\n",
    "                        print(nom_cell)\n",
    "                        cell.style  = analyse_csv.black_on_yellow\n",
    "                        col         = nom_cell[0]\n",
    "                        ligne       = nom_cell[1:]\n",
    "                        col_avant_1 = alphabet[alphabet.index(col)-1]\n",
    "                        col_avant_2 = alphabet[alphabet.index(col)-2]\n",
    "                        for cur_col in [col_avant_1, col_avant_2]:\n",
    "                            self.ws[\"%s%s\"%(cur_col, ligne)].style = analyse_csv.black_on_yellow\n",
    "            except Exception as e:\n",
    "                print(\"pbm avec %s %s\"%(nom_cell,e))\n",
    "        \n",
    "    def manage_cell_test_for_cat(self):\n",
    "        for nom_cell in self.test_for_cat:\n",
    "            cell = self.ws[nom_cell]\n",
    "            if cell.internal_value:\n",
    "                if int(cell.internal_value) < 15:\n",
    "                    print(nom_cell)\n",
    "                    cell.style = analyse_csv.white_on_green\n",
    "        \n",
    "    def manage_test_for_nuls(self):\n",
    "        for nom_cell in self.test_for_nuls:\n",
    "            cell = self.ws[nom_cell]\n",
    "            if cell.internal_value:\n",
    "                if int(cell.internal_value)/self.nb_lignes > 0.3:\n",
    "                    print(nom_cell)\n",
    "                    cell.style = analyse_csv.red_on_black\n",
    "        \n",
    "    def manage_test_for_cat(self):\n",
    "        for nom_cell in self.test_for_cat:\n",
    "            cell = self.ws[nom_cell]\n",
    "            if cell.internal_value:\n",
    "                if int(cell.internal_value) < 15:\n",
    "                    print(nom_cell)\n",
    "                    cell.style = analyse_csv.white_on_green\n",
    "        \n",
    "    def do_coloring(self):\n",
    "        self.manage_cell_test_for_pct()\n",
    "        self.manage_cell_test_for_cat()\n",
    "        self.manage_test_for_nuls()\n",
    "        self.manage_test_for_cat()\n",
    "        self.wb.save(self.path)"
   ]
  },
  {
   "cell_type": "code",
   "execution_count": 36,
   "metadata": {},
   "outputs": [],
   "source": [
    "test = analyse_csv(\"/Users/romain/Google_Drive/ayming/missions/carel/b2b_analyse.xlsx\")"
   ]
  },
  {
   "cell_type": "code",
   "execution_count": 37,
   "metadata": {},
   "outputs": [
    {
     "name": "stdout",
     "output_type": "stream",
     "text": [
      "D5\n",
      "G20\n",
      "M20\n",
      "D4\n",
      "G4\n",
      "G19\n",
      "M19\n",
      "G34\n",
      "C2\n",
      "F17\n",
      "C2\n",
      "F17\n"
     ]
    }
   ],
   "source": [
    "test.do_coloring()"
   ]
  },
  {
   "cell_type": "code",
   "execution_count": 38,
   "metadata": {},
   "outputs": [],
   "source": [
    "!open /Users/romain/Google_Drive/ayming/missions/carel/b2b_analyse.xlsx"
   ]
  },
  {
   "cell_type": "code",
   "execution_count": null,
   "metadata": {},
   "outputs": [],
   "source": []
  }
 ],
 "metadata": {
  "kernelspec": {
   "display_name": "Python 3",
   "language": "python",
   "name": "python3"
  },
  "language_info": {
   "codemirror_mode": {
    "name": "ipython",
    "version": 3
   },
   "file_extension": ".py",
   "mimetype": "text/x-python",
   "name": "python",
   "nbconvert_exporter": "python",
   "pygments_lexer": "ipython3",
   "version": "3.6.5"
  }
 },
 "nbformat": 4,
 "nbformat_minor": 2
}
