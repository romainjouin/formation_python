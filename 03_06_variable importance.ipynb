{
 "cells": [
  {
   "cell_type": "markdown",
   "metadata": {},
   "source": [
    "# Différentes Méthodes pour calculer l'importance de features"
   ]
  },
  {
   "cell_type": "markdown",
   "metadata": {},
   "source": [
    "### -1) import and functions"
   ]
  },
  {
   "cell_type": "code",
   "execution_count": 269,
   "metadata": {
    "collapsed": false
   },
   "outputs": [],
   "source": [
    "from sklearn.tree import _tree\n",
    "from scipy import stats\n",
    "import numpy as np\n",
    "from sklearn import datasets\n",
    "from collections import OrderedDict"
   ]
  },
  {
   "cell_type": "code",
   "execution_count": 270,
   "metadata": {
    "collapsed": true
   },
   "outputs": [],
   "source": [
    "def tree_to_code(tree, feature_names):\n",
    "    tree_ = tree.tree_\n",
    "    feature_name = [\n",
    "        feature_names[i] if i != _tree.TREE_UNDEFINED else \"undefined!\"\n",
    "        for i in tree_.feature\n",
    "    ]\n",
    "    print \"def tree({}):\".format(\", \".join(feature_names))\n",
    "    def recurse(node, depth):\n",
    "        indent = \"  \" * depth\n",
    "        if tree_.feature[node] != _tree.TREE_UNDEFINED:\n",
    "            name = feature_name[node]\n",
    "            threshold = tree_.threshold[node]\n",
    "            print \"{}if {} <= {}:\".format(indent, name, threshold)\n",
    "            recurse(tree_.children_left[node], depth + 1)\n",
    "            print \"{}else:  # if {} > {}\".format(indent, name, threshold)\n",
    "            recurse(tree_.children_right[node], depth + 1)\n",
    "        else:\n",
    "            print \"{}return {}\".format(indent, tree_.value[node])\n",
    "\n",
    "    recurse(0, 1)"
   ]
  },
  {
   "cell_type": "markdown",
   "metadata": {},
   "source": [
    "### 0) loading data"
   ]
  },
  {
   "cell_type": "code",
   "execution_count": 271,
   "metadata": {
    "collapsed": true
   },
   "outputs": [],
   "source": [
    "diabetes = datasets.load_diabetes()\n",
    "X = diabetes.data\n",
    "y = diabetes.target"
   ]
  },
  {
   "cell_type": "code",
   "execution_count": 272,
   "metadata": {
    "collapsed": true
   },
   "outputs": [],
   "source": [
    "r = OrderedDict()"
   ]
  },
  {
   "cell_type": "markdown",
   "metadata": {},
   "source": [
    "### 1) importance des features"
   ]
  },
  {
   "cell_type": "markdown",
   "metadata": {},
   "source": [
    "### 1.1) régression linéaire"
   ]
  },
  {
   "cell_type": "code",
   "execution_count": 273,
   "metadata": {
    "collapsed": false
   },
   "outputs": [
    {
     "data": {
      "text/plain": [
       "array([ -10.01219782, -239.81908937,  519.83978679,  324.39042769,\n",
       "       -792.18416163,  476.74583782,  101.04457032,  177.06417623,\n",
       "        751.27932109,   67.62538639])"
      ]
     },
     "execution_count": 273,
     "metadata": {},
     "output_type": "execute_result"
    }
   ],
   "source": [
    "from sklearn.linear_model import LinearRegression\n",
    "algorithme = LinearRegression()\n",
    "model = algorithme.fit(X, y)\n",
    "r[\"sk LinearRegression.coef\"] = model.coef_\n",
    "model.coef_"
   ]
  },
  {
   "cell_type": "markdown",
   "metadata": {},
   "source": [
    "### avec stats model : pvalues"
   ]
  },
  {
   "cell_type": "code",
   "execution_count": 286,
   "metadata": {
    "collapsed": true
   },
   "outputs": [],
   "source": [
    "import statsmodels.api as sm"
   ]
  },
  {
   "cell_type": "code",
   "execution_count": 287,
   "metadata": {
    "collapsed": false
   },
   "outputs": [
    {
     "name": "stdout",
     "output_type": "stream",
     "text": [
      "                            OLS Regression Results                            \n",
      "==============================================================================\n",
      "Dep. Variable:                      y   R-squared:                       0.518\n",
      "Model:                            OLS   Adj. R-squared:                  0.507\n",
      "Method:                 Least Squares   F-statistic:                     46.27\n",
      "Date:                Wed, 11 Apr 2018   Prob (F-statistic):           3.83e-62\n",
      "Time:                        07:38:02   Log-Likelihood:                -2386.0\n",
      "No. Observations:                 442   AIC:                             4794.\n",
      "Df Residuals:                     431   BIC:                             4839.\n",
      "Df Model:                          10                                         \n",
      "Covariance Type:            nonrobust                                         \n",
      "==============================================================================\n",
      "                 coef    std err          t      P>|t|      [95.0% Conf. Int.]\n",
      "------------------------------------------------------------------------------\n",
      "const        152.1335      2.576     59.061      0.000       147.071   157.196\n",
      "x1           -10.0122     59.749     -0.168      0.867      -127.448   107.424\n",
      "x2          -239.8191     61.222     -3.917      0.000      -360.151  -119.488\n",
      "x3           519.8398     66.534      7.813      0.000       389.069   650.610\n",
      "x4           324.3904     65.422      4.958      0.000       195.805   452.976\n",
      "x5          -792.1842    416.684     -1.901      0.058     -1611.169    26.801\n",
      "x6           476.7458    339.035      1.406      0.160      -189.621  1143.113\n",
      "x7           101.0446    212.533      0.475      0.635      -316.685   518.774\n",
      "x8           177.0642    161.476      1.097      0.273      -140.313   494.442\n",
      "x9           751.2793    171.902      4.370      0.000       413.409  1089.150\n",
      "x10           67.6254     65.984      1.025      0.306       -62.065   197.316\n",
      "==============================================================================\n",
      "Omnibus:                        1.506   Durbin-Watson:                   2.029\n",
      "Prob(Omnibus):                  0.471   Jarque-Bera (JB):                1.404\n",
      "Skew:                           0.017   Prob(JB):                        0.496\n",
      "Kurtosis:                       2.726   Cond. No.                         227.\n",
      "==============================================================================\n",
      "\n",
      "Warnings:\n",
      "[1] Standard Errors assume that the covariance matrix of the errors is correctly specified.\n"
     ]
    }
   ],
   "source": [
    "intercept_x = sm.add_constant(X)\n",
    "estimateur  = sm.OLS(y, intercept_x)\n",
    "modele      = estimateur.fit()\n",
    "print(modele.summary())"
   ]
  },
  {
   "cell_type": "code",
   "execution_count": 288,
   "metadata": {
    "collapsed": false
   },
   "outputs": [],
   "source": [
    "r[\"sm OLS_coef\"] = modele.params[1:]"
   ]
  },
  {
   "cell_type": "code",
   "execution_count": 289,
   "metadata": {
    "collapsed": false
   },
   "outputs": [],
   "source": [
    "r[\"sm OLS_pvalues\"] = modele.pvalues[1:]"
   ]
  },
  {
   "cell_type": "markdown",
   "metadata": {},
   "source": [
    "### 1.2) Tree"
   ]
  },
  {
   "cell_type": "code",
   "execution_count": 278,
   "metadata": {
    "collapsed": true
   },
   "outputs": [],
   "source": [
    "from sklearn import tree\n",
    "algorithme = tree.DecisionTreeRegressor(max_depth=3)\n",
    "modele = algorithme.fit(X, y)"
   ]
  },
  {
   "cell_type": "code",
   "execution_count": 279,
   "metadata": {
    "collapsed": false
   },
   "outputs": [
    {
     "name": "stdout",
     "output_type": "stream",
     "text": [
      "def tree(0, 1, 2, 3, 4, 5, 6, 7, 8, 9):\n",
      "  if 8 <= -0.00376178603619:\n",
      "    if 2 <= 0.00618888484314:\n",
      "      if 6 <= 0.0210278164595:\n",
      "        return [[ 108.8045977]]\n",
      "      else:  # if 6 > 0.0210278164595\n",
      "        return [[ 83.36904762]]\n",
      "    else:  # if 2 > 0.00618888484314\n",
      "      if 0 <= -0.0799815952778:\n",
      "        return [[ 274.]]\n",
      "      else:  # if 0 > -0.0799815952778\n",
      "        return [[ 154.66666667]]\n",
      "  else:  # if 8 > -0.00376178603619\n",
      "    if 2 <= 0.0148113816977:\n",
      "      if 2 <= -0.0218342300504:\n",
      "        return [[ 137.69047619]]\n",
      "      else:  # if 2 > -0.0218342300504\n",
      "        return [[ 176.86486486]]\n",
      "    else:  # if 2 > 0.0148113816977\n",
      "      if 2 <= 0.0687019824982:\n",
      "        return [[ 208.57142857]]\n",
      "      else:  # if 2 > 0.0687019824982\n",
      "        return [[ 268.87096774]]\n"
     ]
    }
   ],
   "source": [
    "tree_to_code(modele, [str(x) for x in range(10)])"
   ]
  },
  {
   "cell_type": "code",
   "execution_count": 280,
   "metadata": {
    "collapsed": false
   },
   "outputs": [],
   "source": [
    "r[\"DecisionTreeRegressor\"] = modele.feature_importances_"
   ]
  },
  {
   "cell_type": "markdown",
   "metadata": {},
   "source": [
    "### 1.3) features importances par random forest"
   ]
  },
  {
   "cell_type": "code",
   "execution_count": 281,
   "metadata": {
    "collapsed": true
   },
   "outputs": [],
   "source": [
    "from sklearn.ensemble import RandomForestRegressor"
   ]
  },
  {
   "cell_type": "code",
   "execution_count": 282,
   "metadata": {
    "collapsed": false
   },
   "outputs": [],
   "source": [
    "algo = RandomForestRegressor()\n",
    "modele = algo.fit(X, y)\n",
    "r[\"RandomForestRegressor\"] = modele.feature_importances_"
   ]
  },
  {
   "cell_type": "markdown",
   "metadata": {},
   "source": [
    "### 1.4) ExtraTreesClassifier"
   ]
  },
  {
   "cell_type": "code",
   "execution_count": 283,
   "metadata": {
    "collapsed": true
   },
   "outputs": [],
   "source": [
    "from sklearn.ensemble import ExtraTreesClassifier"
   ]
  },
  {
   "cell_type": "code",
   "execution_count": 284,
   "metadata": {
    "collapsed": false
   },
   "outputs": [],
   "source": [
    "algo = ExtraTreesClassifier()\n",
    "modele = algo.fit(X, y)\n",
    "modele.feature_importances_\n",
    "r[\"ExtraTreesClassifier\"] = modele.feature_importances_"
   ]
  },
  {
   "cell_type": "markdown",
   "metadata": {},
   "source": [
    "# 3) display of column importance differences"
   ]
  },
  {
   "cell_type": "code",
   "execution_count": 285,
   "metadata": {
    "collapsed": false
   },
   "outputs": [
    {
     "data": {
      "text/html": [
       "<div>\n",
       "<table border=\"1\" class=\"dataframe\">\n",
       "  <thead>\n",
       "    <tr style=\"text-align: right;\">\n",
       "      <th></th>\n",
       "      <th>sk LinearRegression.coef</th>\n",
       "      <th>sm OLS_coef</th>\n",
       "      <th>sm OLS_pvalues</th>\n",
       "      <th>DecisionTreeRegressor</th>\n",
       "      <th>RandomForestRegressor</th>\n",
       "      <th>ExtraTreesClassifier</th>\n",
       "      <th>num_col</th>\n",
       "      <th>total</th>\n",
       "    </tr>\n",
       "  </thead>\n",
       "  <tbody>\n",
       "    <tr>\n",
       "      <th>8</th>\n",
       "      <td>751.279321</td>\n",
       "      <td>751.279321</td>\n",
       "      <td>1.556021e-05</td>\n",
       "      <td>0.582301</td>\n",
       "      <td>0.337915</td>\n",
       "      <td>0.104612</td>\n",
       "      <td>9</td>\n",
       "      <td>1.024828</td>\n",
       "    </tr>\n",
       "    <tr>\n",
       "      <th>2</th>\n",
       "      <td>519.839787</td>\n",
       "      <td>519.839787</td>\n",
       "      <td>4.299558e-14</td>\n",
       "      <td>0.375849</td>\n",
       "      <td>0.251091</td>\n",
       "      <td>0.119965</td>\n",
       "      <td>3</td>\n",
       "      <td>0.746906</td>\n",
       "    </tr>\n",
       "    <tr>\n",
       "      <th>3</th>\n",
       "      <td>324.390428</td>\n",
       "      <td>324.390428</td>\n",
       "      <td>1.023819e-06</td>\n",
       "      <td>0.000000</td>\n",
       "      <td>0.098816</td>\n",
       "      <td>0.119599</td>\n",
       "      <td>4</td>\n",
       "      <td>0.218415</td>\n",
       "    </tr>\n",
       "    <tr>\n",
       "      <th>0</th>\n",
       "      <td>-10.012198</td>\n",
       "      <td>-10.012198</td>\n",
       "      <td>8.669998e-01</td>\n",
       "      <td>0.020780</td>\n",
       "      <td>0.063630</td>\n",
       "      <td>0.118122</td>\n",
       "      <td>1</td>\n",
       "      <td>0.202532</td>\n",
       "    </tr>\n",
       "    <tr>\n",
       "      <th>9</th>\n",
       "      <td>67.625386</td>\n",
       "      <td>67.625386</td>\n",
       "      <td>3.059983e-01</td>\n",
       "      <td>0.000000</td>\n",
       "      <td>0.084474</td>\n",
       "      <td>0.106609</td>\n",
       "      <td>10</td>\n",
       "      <td>0.191083</td>\n",
       "    </tr>\n",
       "    <tr>\n",
       "      <th>6</th>\n",
       "      <td>101.044570</td>\n",
       "      <td>101.044570</td>\n",
       "      <td>6.347207e-01</td>\n",
       "      <td>0.021070</td>\n",
       "      <td>0.041628</td>\n",
       "      <td>0.112076</td>\n",
       "      <td>7</td>\n",
       "      <td>0.174774</td>\n",
       "    </tr>\n",
       "    <tr>\n",
       "      <th>5</th>\n",
       "      <td>476.745838</td>\n",
       "      <td>476.745838</td>\n",
       "      <td>1.603892e-01</td>\n",
       "      <td>0.000000</td>\n",
       "      <td>0.047571</td>\n",
       "      <td>0.110420</td>\n",
       "      <td>6</td>\n",
       "      <td>0.157990</td>\n",
       "    </tr>\n",
       "    <tr>\n",
       "      <th>4</th>\n",
       "      <td>-792.184162</td>\n",
       "      <td>-792.184162</td>\n",
       "      <td>5.794735e-02</td>\n",
       "      <td>0.000000</td>\n",
       "      <td>0.042791</td>\n",
       "      <td>0.110670</td>\n",
       "      <td>5</td>\n",
       "      <td>0.153461</td>\n",
       "    </tr>\n",
       "    <tr>\n",
       "      <th>7</th>\n",
       "      <td>177.064176</td>\n",
       "      <td>177.064176</td>\n",
       "      <td>2.734557e-01</td>\n",
       "      <td>0.000000</td>\n",
       "      <td>0.018083</td>\n",
       "      <td>0.075829</td>\n",
       "      <td>8</td>\n",
       "      <td>0.093911</td>\n",
       "    </tr>\n",
       "    <tr>\n",
       "      <th>1</th>\n",
       "      <td>-239.819089</td>\n",
       "      <td>-239.819089</td>\n",
       "      <td>1.041429e-04</td>\n",
       "      <td>0.000000</td>\n",
       "      <td>0.014001</td>\n",
       "      <td>0.022097</td>\n",
       "      <td>2</td>\n",
       "      <td>0.036099</td>\n",
       "    </tr>\n",
       "  </tbody>\n",
       "</table>\n",
       "</div>"
      ],
      "text/plain": [
       "   sk LinearRegression.coef  sm OLS_coef  sm OLS_pvalues  \\\n",
       "8                751.279321   751.279321    1.556021e-05   \n",
       "2                519.839787   519.839787    4.299558e-14   \n",
       "3                324.390428   324.390428    1.023819e-06   \n",
       "0                -10.012198   -10.012198    8.669998e-01   \n",
       "9                 67.625386    67.625386    3.059983e-01   \n",
       "6                101.044570   101.044570    6.347207e-01   \n",
       "5                476.745838   476.745838    1.603892e-01   \n",
       "4               -792.184162  -792.184162    5.794735e-02   \n",
       "7                177.064176   177.064176    2.734557e-01   \n",
       "1               -239.819089  -239.819089    1.041429e-04   \n",
       "\n",
       "   DecisionTreeRegressor  RandomForestRegressor  ExtraTreesClassifier  \\\n",
       "8               0.582301               0.337915              0.104612   \n",
       "2               0.375849               0.251091              0.119965   \n",
       "3               0.000000               0.098816              0.119599   \n",
       "0               0.020780               0.063630              0.118122   \n",
       "9               0.000000               0.084474              0.106609   \n",
       "6               0.021070               0.041628              0.112076   \n",
       "5               0.000000               0.047571              0.110420   \n",
       "4               0.000000               0.042791              0.110670   \n",
       "7               0.000000               0.018083              0.075829   \n",
       "1               0.000000               0.014001              0.022097   \n",
       "\n",
       "   num_col     total  \n",
       "8        9  1.024828  \n",
       "2        3  0.746906  \n",
       "3        4  0.218415  \n",
       "0        1  0.202532  \n",
       "9       10  0.191083  \n",
       "6        7  0.174774  \n",
       "5        6  0.157990  \n",
       "4        5  0.153461  \n",
       "7        8  0.093911  \n",
       "1        2  0.036099  "
      ]
     },
     "execution_count": 285,
     "metadata": {},
     "output_type": "execute_result"
    }
   ],
   "source": [
    "import pandas as pd\n",
    "df = pd.DataFrame(r)\n",
    "df[\"num_col\"] = list(range(1,11))\n",
    "df[\"total\"] = df.DecisionTreeRegressor + df.ExtraTreesClassifier + df.RandomForestRegressor\n",
    "\n",
    "df.sort_values(\"total\", ascending=False)"
   ]
  },
  {
   "cell_type": "code",
   "execution_count": null,
   "metadata": {
    "collapsed": true
   },
   "outputs": [],
   "source": []
  },
  {
   "cell_type": "code",
   "execution_count": null,
   "metadata": {
    "collapsed": true
   },
   "outputs": [],
   "source": []
  },
  {
   "cell_type": "code",
   "execution_count": null,
   "metadata": {
    "collapsed": true
   },
   "outputs": [],
   "source": []
  },
  {
   "cell_type": "code",
   "execution_count": null,
   "metadata": {
    "collapsed": true
   },
   "outputs": [],
   "source": []
  },
  {
   "cell_type": "code",
   "execution_count": null,
   "metadata": {
    "collapsed": true
   },
   "outputs": [],
   "source": []
  },
  {
   "cell_type": "code",
   "execution_count": null,
   "metadata": {
    "collapsed": true
   },
   "outputs": [],
   "source": []
  }
 ],
 "metadata": {
  "kernelspec": {
   "display_name": "Python 2",
   "language": "python",
   "name": "python2"
  },
  "language_info": {
   "codemirror_mode": {
    "name": "ipython",
    "version": 2
   },
   "file_extension": ".py",
   "mimetype": "text/x-python",
   "name": "python",
   "nbconvert_exporter": "python",
   "pygments_lexer": "ipython2",
   "version": "2.7.11"
  }
 },
 "nbformat": 4,
 "nbformat_minor": 0
}
