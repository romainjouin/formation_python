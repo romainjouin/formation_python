{
 "cells": [
  {
   "cell_type": "code",
   "execution_count": 45,
   "metadata": {},
   "outputs": [],
   "source": [
    "import random"
   ]
  },
  {
   "cell_type": "code",
   "execution_count": 306,
   "metadata": {},
   "outputs": [],
   "source": [
    "def environnement(x, y, var_x_y):\n",
    "    reward     = 0\n",
    "    new_x      = x + var_x_y[0]\n",
    "    new_y      = y + var_x_y[1]\n",
    "\n",
    "    if new_x<0 : new_x = 0\n",
    "    if new_x>3 : new_x = 3\n",
    "        \n",
    "    if new_y<0 : new_y = 0\n",
    "    if new_y>2 : new_y = 2\n",
    "    \n",
    "    if new_x ==2 and new_y==1 : reward=-10\n",
    "    if new_x ==3 and new_y==2 : reward=+50\n",
    "    \n",
    "    est_fini = reward != 0\n",
    "    \n",
    "    return new_x, new_y, reward, est_fini        "
   ]
  },
  {
   "cell_type": "code",
   "execution_count": 317,
   "metadata": {},
   "outputs": [],
   "source": [
    "aller_a_droite = [ 1 ,  0]\n",
    "aller_a_gauche = [-1 ,  0]\n",
    "aller_en_haut  = [ 0 ,  1]\n",
    "aller_en_bas   = [ 0 , -1]\n",
    "actions_possibles = {\"aller_a_droite\" : aller_a_droite, \n",
    "                     \"aller_a_gauche\" : aller_a_gauche, \n",
    "                     \"aller_en_haut\"  : aller_en_haut, \n",
    "                     \"aller_en_bas\"   : aller_en_bas }"
   ]
  },
  {
   "cell_type": "markdown",
   "metadata": {},
   "source": [
    "# Test de l'environnement"
   ]
  },
  {
   "cell_type": "code",
   "execution_count": 352,
   "metadata": {},
   "outputs": [
    {
     "name": "stdout",
     "output_type": "stream",
     "text": [
      "aller_en_haut\n",
      "2 0 aller_en_haut =>  2 1 reward =  -10 est_fini =  True\n"
     ]
    },
    {
     "data": {
      "text/plain": [
       "Text(2,0,'aller_en_haut')"
      ]
     },
     "execution_count": 352,
     "metadata": {},
     "output_type": "execute_result"
    },
    {
     "data": {
      "image/png": "[encoded data removed]",
      "text/plain": [
       "<Figure size 432x288 with 1 Axes>"
      ]
     },
     "metadata": {},
     "output_type": "display_data"
    }
   ],
   "source": [
    "action_choisie = random.choice(list(actions_possibles.keys()))\n",
    "print(action_choisie)\n",
    "old_x = 2\n",
    "old_y = 0\n",
    "new_x, new_y, reward, est_fini = environnement(old_x,old_y, actions_possibles[action_choisie])\n",
    "print(old_x, old_y, action_choisie , \"=> \", new_x , new_y, \"reward = \", reward, \"est_fini = \", est_fini)\n",
    "\n",
    "ax = pd.DataFrame([[new_x], [new_y]]).T.plot.scatter(x=0, y=1, color=\"blue\", xlim=[-0.5, 4], ylim=[-0.5, 4], title=action_choisie)\n",
    "pd.DataFrame([[old_x], [old_y]]).T.plot.scatter(x=0, y=1, ax=ax, color=\"red\")\n",
    "ax.annotate(\"\", xy=(new_x, new_y), xytext=(old_x, old_y), arrowprops=dict(arrowstyle=\"->\"))\n",
    "ax.annotate(action_choisie, xy=(old_x, old_y))#,  arrowprops=dict(arrowstyle=\"->\"))"
   ]
  },
  {
   "cell_type": "markdown",
   "metadata": {},
   "source": [
    "# Q_value de base"
   ]
  },
  {
   "cell_type": "code",
   "execution_count": 335,
   "metadata": {},
   "outputs": [],
   "source": [
    "def init_Q_value():\n",
    "    x_possibles = range(4)\n",
    "    y_possibles = range(3)\n",
    "\n",
    "    positions_possibles =  [(x,y) for x in x_possibles for y in  y_possibles]\n",
    "    Q_value             = {}\n",
    "    for position_possible in positions_possibles:\n",
    "        Q_value[position_possible] = {   \"aller_a_droite\" : 0 , \n",
    "                                         \"aller_a_gauche\" : 0 , \n",
    "                                         \"aller_en_haut\"  : 0 , \n",
    "                                         \"aller_en_bas\"   : 0 }\n",
    "    return Q_value"
   ]
  },
  {
   "cell_type": "markdown",
   "metadata": {},
   "source": [
    "# Créer des épisodes"
   ]
  },
  {
   "cell_type": "code",
   "execution_count": 336,
   "metadata": {},
   "outputs": [],
   "source": [
    "def creer_episode_aleatoire(environnement, x_initial, y_initial, actions_possibles):\n",
    "    est_fini = False\n",
    "    steps    = []\n",
    "    n        = -1\n",
    "    while not est_fini:\n",
    "        n +=1\n",
    "        nom_action_choisie = random.choice(list(actions_possibles.keys()))\n",
    "        action_choisie     = actions_possibles[nom_action_choisie]\n",
    "        step               = environnement(x_initial,y_initial, action_choisie)\n",
    "        new_x, new_y, reward, est_fini = step\n",
    "        x_initial,y_initial = new_x, new_y\n",
    "        steps.append([nom_action_choisie, step])\n",
    "        if est_fini:\n",
    "            return steps\n",
    "        if n>1000:\n",
    "            return steps"
   ]
  },
  {
   "cell_type": "markdown",
   "metadata": {},
   "source": [
    "# Update ma Q_value"
   ]
  },
  {
   "cell_type": "code",
   "execution_count": 337,
   "metadata": {},
   "outputs": [],
   "source": [
    "def update_q_value(Q_value, episode):\n",
    "    actions_choisies = [x[0]     for x in episode]\n",
    "    positions        = [x[1][:2] for x in episode]\n",
    "    rewards          = [x[1][2]  for x in episode]\n",
    "    somme_rewards    = sum(rewards)\n",
    "\n",
    "    nb_de_position          = len(positions)\n",
    "    influence_des_positions = []\n",
    "    \n",
    "    for indice_position, position in enumerate(positions) :\n",
    "        gains_futurs = somme_rewards / (nb_de_position-indice_position)\n",
    "        influence_des_positions.append(gains_futurs)\n",
    "\n",
    "    for indice, _ in enumerate(positions):\n",
    "        position = positions              [indice]\n",
    "        action   = actions_choisies       [indice]\n",
    "        valeur   = influence_des_positions[indice]\n",
    "        Q_value[position][action] += valeur\n",
    "        \n",
    "    return Q_value"
   ]
  },
  {
   "cell_type": "code",
   "execution_count": 338,
   "metadata": {},
   "outputs": [],
   "source": [
    "def get_reward_of_episode(episode):\n",
    "    return sum ([x[1][2] for x in episode])"
   ]
  },
  {
   "cell_type": "code",
   "execution_count": 448,
   "metadata": {},
   "outputs": [
    {
     "data": {
      "text/plain": [
       "0.7117044407327138"
      ]
     },
     "execution_count": 448,
     "metadata": {},
     "output_type": "execute_result"
    }
   ],
   "source": []
  },
  {
   "cell_type": "code",
   "execution_count": 546,
   "metadata": {},
   "outputs": [],
   "source": [
    "good = new_episode.copy()\n",
    "good2 = new_episode.copy()"
   ]
  },
  {
   "cell_type": "code",
   "execution_count": 547,
   "metadata": {},
   "outputs": [
    {
     "name": "stdout",
     "output_type": "stream",
     "text": [
      "0 0 aller_a_gauche\n"
     ]
    },
    {
     "data": {
      "image/png": "[encoded data removed]",
      "text/plain": [
       "<Figure size 432x288 with 1 Axes>"
      ]
     },
     "metadata": {},
     "output_type": "display_data"
    }
   ],
   "source": [
    "\n",
    "new_episode = draw_episode(creer_episode_aleatoire(environnement, 0, 0, actions_possibles))"
   ]
  },
  {
   "cell_type": "code",
   "execution_count": 470,
   "metadata": {},
   "outputs": [],
   "source": [
    "r=0\n",
    "while r<40:\n",
    "    episode = creer_episode_aleatoire(environnement, 0, 0, actions_possibles)\n",
    "    r = get_reward_of_episode(episode)"
   ]
  },
  {
   "cell_type": "code",
   "execution_count": 525,
   "metadata": {},
   "outputs": [
    {
     "data": {
      "text/plain": [
       "50"
      ]
     },
     "execution_count": 525,
     "metadata": {},
     "output_type": "execute_result"
    }
   ],
   "source": [
    "get_reward_of_episode(episode)"
   ]
  },
  {
   "cell_type": "code",
   "execution_count": 479,
   "metadata": {},
   "outputs": [],
   "source": []
  },
  {
   "cell_type": "code",
   "execution_count": 538,
   "metadata": {},
   "outputs": [],
   "source": [
    "def draw_episode(episode):\n",
    "    from collections import defaultdict\n",
    "    from matplotlib import pyplot as plt\n",
    "    import matplotlib\n",
    "    actions_choisies = [x[0]     for x in episode]\n",
    "    positions        = [(0,0)] + [x[1][:2] for x in episode]\n",
    "    rewards          = [x[1][2]  for x in episode]\n",
    "    sum_reward       = sum(rewards)\n",
    "    cmap             = plt.cm.Reds\n",
    "    norm           = matplotlib.colors.Normalize(vmin=0, vmax=len(rewards)/100)\n",
    "    action_choisie = actions_choisies[0]\n",
    "    old_x, old_y   = positions[0]\n",
    "    \n",
    "    print(old_x, old_y, action_choisie)\n",
    "    title = str(len(episode)) + \" steps \" + str(sum_reward) + \" points\"\n",
    "    ax = pd.DataFrame([[old_x], [old_y]]).T.plot.scatter(x=0, y=1, color=\"blue\", xlim=[-0.5, 4.2], ylim=[-0.5, 3.5], title=title)\n",
    "    #ax.annotate(action_choisie, xy=(old_x, old_y))#,\n",
    "\n",
    "    epsilon_x = 0.0\n",
    "    epsilon_y = 0.0\n",
    "    def f():\n",
    "        return 0\n",
    "    epsilons = defaultdict(f)\n",
    "    for i in range(1, len(positions)):  \n",
    "        new_x, new_y         = positions[i]\n",
    "        epsilons[tuple(positions[i])] = epsilons[tuple(positions[i])] + 0.02\n",
    "        epsilon_x = epsilons[tuple(positions[i])]\n",
    "        epsilon_y = epsilons[tuple(positions[i])]\n",
    "        try:\n",
    "            action_choisie = actions_choisies[i]\n",
    "        except:\n",
    "            pass\n",
    "\n",
    "        pd.DataFrame([[new_x], [new_y]]).T.plot.scatter(x=0, y=1, ax=ax, color=\"red\")\n",
    "        if new_x == old_x and old_y==new_y:\n",
    "            circle = plt.Circle((new_x, new_y), 0.05,  clip_on=False, fill=True, alpha=i/100)\n",
    "            ax.add_artist(circle)\n",
    "        ax.annotate(\"\", \n",
    "                    xy     =(new_x+epsilon_x, new_y+epsilon_y), \n",
    "                    xytext =(old_x+epsilon_x, old_y+epsilon_y), \n",
    "                    arrowprops=dict(arrowstyle=\"->\", color=cmap(norm(i/100), alpha=0.2)))\n",
    "\n",
    "        middle_x = (new_x + old_x )/2 + epsilon_x*random.choice([-1, 1])*4\n",
    "        middle_y = (new_y + old_y )/2 + epsilon_y*random.choice([-1, 1])*4\n",
    "        ax.annotate(i, xy=(middle_x, middle_y))#,  arrowprops=dict(arrowstyle=\"->\"))\n",
    "        old_x, old_y = new_x, new_y\n",
    "    return episode"
   ]
  },
  {
   "cell_type": "code",
   "execution_count": 528,
   "metadata": {},
   "outputs": [
    {
     "name": "stdout",
     "output_type": "stream",
     "text": [
      "0 0 aller_a_gauche\n"
     ]
    },
    {
     "data": {
      "image/png": "[encoded data removed]",
      "text/plain": [
       "<Figure size 432x288 with 1 Axes>"
      ]
     },
     "metadata": {},
     "output_type": "display_data"
    }
   ],
   "source": [
    "draw_episode(episode)"
   ]
  },
  {
   "cell_type": "code",
   "execution_count": 490,
   "metadata": {},
   "outputs": [
    {
     "data": {
      "text/plain": [
       "defaultdict(<function __main__.f()>,\n",
       "            {(0, 0): 0.44999999999999996,\n",
       "             (0, 1): 0.39999999999999997,\n",
       "             (0, 2): 0.25,\n",
       "             (1, 1): 0.15000000000000002,\n",
       "             (1, 0): 0.25,\n",
       "             (1, 2): 0.05,\n",
       "             (2, 2): 0.05})"
      ]
     },
     "execution_count": 490,
     "metadata": {},
     "output_type": "execute_result"
    }
   ],
   "source": [
    "epsilons"
   ]
  },
  {
   "cell_type": "code",
   "execution_count": null,
   "metadata": {},
   "outputs": [],
   "source": []
  },
  {
   "cell_type": "code",
   "execution_count": null,
   "metadata": {},
   "outputs": [],
   "source": []
  },
  {
   "cell_type": "code",
   "execution_count": null,
   "metadata": {},
   "outputs": [],
   "source": []
  },
  {
   "cell_type": "code",
   "execution_count": null,
   "metadata": {},
   "outputs": [],
   "source": []
  },
  {
   "cell_type": "code",
   "execution_count": null,
   "metadata": {},
   "outputs": [],
   "source": []
  },
  {
   "cell_type": "code",
   "execution_count": null,
   "metadata": {},
   "outputs": [],
   "source": []
  },
  {
   "cell_type": "code",
   "execution_count": 270,
   "metadata": {
    "scrolled": false
   },
   "outputs": [
    {
     "name": "stdout",
     "output_type": "stream",
     "text": [
      "== == == == == == == == == == == == == == == == == == == == \n",
      "epoch 0 reward =  50\n",
      "                0        1        2        3      \n",
      "                0  1  2  0  1  2  0  1  2  0  1  2\n",
      "aller_a_droite  0  0  0  0  0  0  0  0  0  0  0  0\n",
      "aller_a_gauche  0  0  0  0  0  0  0  0  0  0  0  0\n",
      "aller_en_bas    0  0  0  0  0  0  0  0  0  0  0  0\n",
      "aller_en_haut   0  0  0  0  0  0  0  0  0  0  0  0\n",
      "== == == == == == == == == == == == == == == == == == == == \n",
      "epoch 1 reward =  -10\n",
      "                       0                          1               2        \\\n",
      "                       0      1         2         0  1         2  0     1   \n",
      "aller_a_droite  0.000000  0.000  0.000000 -0.526316  0 -4.935897  0   0.0   \n",
      "aller_a_gauche -1.088235  0.000 -5.456710  0.000000  0  0.000000  0   0.0   \n",
      "aller_en_bas   -0.476190 -1.250  0.000000 -0.555556  0  0.000000  0 -10.0   \n",
      "aller_en_haut   0.000000 -0.625 -3.206349  0.000000  0 -3.333333  0   0.0   \n",
      "\n",
      "                     3        \n",
      "                  2  0  1  2  \n",
      "aller_a_droite -5.0  0  0  0  \n",
      "aller_a_gauche  0.0  0  0  0  \n",
      "aller_en_bas    0.0  0  0  0  \n",
      "aller_en_haut   0.0  0  0  0  \n",
      "== == == == == == == == == == == == == == == == == == == == \n",
      "epoch 2 reward =  -10\n",
      "                       0                             1                 \\\n",
      "                       0         1         2         0    1         2   \n",
      "aller_a_droite  0.000000  0.000000  0.000000 -0.980861  0.0 -7.435897   \n",
      "aller_a_gauche -2.338235  0.000000 -5.456710 -1.111111  0.0  0.000000   \n",
      "aller_en_bas   -1.904762 -1.250000  0.000000 -1.031746 -5.0  0.000000   \n",
      "aller_en_haut   0.000000 -2.291667 -5.206349  0.000000  0.0 -6.666667   \n",
      "\n",
      "                       2                    3               \n",
      "                       0     1    2         0         1  2  \n",
      "aller_a_droite -0.500000 -10.0 -5.0 -1.180556  0.000000  0  \n",
      "aller_a_gauche -1.000000   0.0  0.0  0.000000  0.000000  0  \n",
      "aller_en_bas   -0.526316 -10.0  0.0 -3.711612  0.000000  0  \n",
      "aller_en_haut   0.000000   0.0  0.0  0.000000 -0.769231  0  \n",
      "== == == == == == == == == == == == == == == == == == == == \n",
      "epoch 3 reward =  -10\n",
      "                       0                             1                        \\\n",
      "                       0         1         2         0          1          2   \n",
      "aller_a_droite  0.000000  0.000000  0.000000 -3.000092  -2.000000  -7.435897   \n",
      "aller_a_gauche -5.621965 -1.666667 -5.456710 -1.111111   0.000000   0.000000   \n",
      "aller_en_bas   -4.159664 -1.250000  0.000000 -1.031746 -10.000000   0.000000   \n",
      "aller_en_haut   0.000000 -3.200758 -5.206349  0.000000  -1.428571 -12.500000   \n",
      "\n",
      "                       2                    3               \n",
      "                       0     1    2         0         1  2  \n",
      "aller_a_droite -0.500000 -20.0 -5.0 -1.180556  0.000000  0  \n",
      "aller_a_gauche -1.000000   0.0  0.0  0.000000  0.000000  0  \n",
      "aller_en_bas   -0.526316 -10.0  0.0 -3.711612  0.000000  0  \n",
      "aller_en_haut   0.000000   0.0  0.0  0.000000 -0.769231  0  \n",
      "== == == == == == == == == == == == == == == == == == == == \n",
      "epoch 4 reward =  -10\n",
      "                        0                             1                        \\\n",
      "                        0         1         2         0          1          2   \n",
      "aller_a_droite   0.000000  0.000000  0.000000 -7.483808  -2.000000  -7.435897   \n",
      "aller_a_gauche -13.494981 -2.373863 -5.456710 -1.414141   0.000000   0.000000   \n",
      "aller_en_bas   -12.457305 -1.250000  0.000000 -5.478225 -10.000000   0.000000   \n",
      "aller_en_haut    0.000000 -4.480219 -5.206349  0.000000  -2.011342 -12.500000   \n",
      "\n",
      "                       2                    3               \n",
      "                       0     1    2         0         1  2  \n",
      "aller_a_droite -5.794118 -20.0 -5.0 -1.180556  0.000000  0  \n",
      "aller_a_gauche -1.000000   0.0  0.0  0.000000  0.000000  0  \n",
      "aller_en_bas   -0.526316 -10.0  0.0 -3.711612  0.000000  0  \n",
      "aller_en_haut   0.000000 -10.0  0.0  0.000000 -0.769231  0  \n",
      "== == == == == == == == == == == == == == == == == == == == \n",
      "epoch 5 reward =  -10\n",
      "                        0                             1                        \\\n",
      "                        0         1         2         0          1          2   \n",
      "aller_a_droite   0.000000  0.000000  0.000000 -7.483808  -3.428571 -10.769231   \n",
      "aller_a_gauche -13.494981 -4.040529 -5.456710 -1.414141   0.000000   0.000000   \n",
      "aller_en_bas   -13.568417 -1.250000  0.000000 -5.478225 -10.000000   0.000000   \n",
      "aller_en_haut    0.000000 -6.730219 -9.706349  0.000000  -2.011342 -12.500000   \n",
      "\n",
      "                       2                     3               \n",
      "                       0     1     2         0         1  2  \n",
      "aller_a_droite -5.794118 -20.0 -10.0 -1.180556  0.000000  0  \n",
      "aller_a_gauche -1.000000   0.0   0.0  0.000000  0.000000  0  \n",
      "aller_en_bas   -0.526316 -20.0   0.0 -3.711612  0.000000  0  \n",
      "aller_en_haut   0.000000 -10.0   0.0  0.000000 -0.769231  0  \n",
      "== == == == == == == == == == == == == == == == == == == == \n",
      "epoch 6 reward =  -10\n",
      "                        0                              1             \\\n",
      "                        0         1         2          0          1   \n",
      "aller_a_droite   0.000000  0.000000  0.000000  -9.483808  -3.428571   \n",
      "aller_a_gauche -13.494981 -4.040529 -5.456710  -1.414141   0.000000   \n",
      "aller_en_bas   -13.568417 -1.250000  0.000000 -11.311558 -10.000000   \n",
      "aller_en_haut    0.000000 -6.730219 -9.706349   0.000000  -2.011342   \n",
      "\n",
      "                                   2                     3               \n",
      "                        2          0     1     2         0         1  2  \n",
      "aller_a_droite -10.769231 -10.794118 -20.0 -10.0 -1.180556  0.000000  0  \n",
      "aller_a_gauche   0.000000  -1.000000   0.0   0.0  0.000000  0.000000  0  \n",
      "aller_en_bas     0.000000  -0.526316 -20.0   0.0 -3.711612  0.000000  0  \n",
      "aller_en_haut  -12.500000   0.000000 -20.0   0.0  0.000000 -0.769231  0  \n",
      "== == == == == == == == == == == == == == == == == == == == \n",
      "epoch 7 reward =  -10\n",
      "                        0                              1             \\\n",
      "                        0         1         2          0          1   \n",
      "aller_a_droite   0.000000  0.000000  0.000000 -12.817142  -3.428571   \n",
      "aller_a_gauche -13.494981 -4.040529 -5.456710  -1.414141   0.000000   \n",
      "aller_en_bas   -13.568417 -1.250000  0.000000 -11.311558 -10.000000   \n",
      "aller_en_haut    0.000000 -6.730219 -9.706349   0.000000  -7.011342   \n",
      "\n",
      "                                   2                     3               \n",
      "                        2          0     1     2         0         1  2  \n",
      "aller_a_droite -10.769231 -10.794118 -30.0 -10.0 -1.180556  0.000000  0  \n",
      "aller_a_gauche   0.000000  -1.000000   0.0   0.0  0.000000  0.000000  0  \n",
      "aller_en_bas     0.000000  -0.526316 -20.0   0.0 -3.711612  0.000000  0  \n",
      "aller_en_haut  -12.500000   0.000000 -20.0   0.0  0.000000 -0.769231  0  \n",
      "== == == == == == == == == == == == == == == == == == == == \n",
      "epoch 8 reward =  -10\n",
      "                        0                               1             \\\n",
      "                        0         1          2          0          1   \n",
      "aller_a_droite   0.000000  0.000000   0.000000 -13.111259  -3.428571   \n",
      "aller_a_gauche -13.839809 -4.688678  -7.582900  -1.747475   0.000000   \n",
      "aller_en_bas   -16.190904 -2.659091   0.000000 -11.624058 -10.000000   \n",
      "aller_en_haut    0.000000 -8.696918 -12.971306   0.000000  -7.314372   \n",
      "\n",
      "                                   2                          3               \n",
      "                        2          0     1          2         0         1  2  \n",
      "aller_a_droite -12.454013 -11.116698 -30.0 -16.666667 -1.180556  0.000000  0  \n",
      "aller_a_gauche  -2.000000  -1.000000   0.0   0.000000  0.000000  0.000000  0  \n",
      "aller_en_bas     0.000000  -0.526316 -30.0   0.000000 -3.711612  0.000000  0  \n",
      "aller_en_haut  -20.216450   0.000000 -20.0   0.000000  0.000000 -0.769231  0  \n",
      "== == == == == == == == == == == == == == == == == == == == \n",
      "epoch 9 reward =  50\n",
      "                        0                               1             \\\n",
      "                        0         1          2          0          1   \n",
      "aller_a_droite   0.000000  0.000000   0.000000  -3.111259  -3.428571   \n",
      "aller_a_gauche -13.839809 -4.688678  -7.582900  -1.747475   0.000000   \n",
      "aller_en_bas   -16.190904 -2.659091   0.000000 -11.624058 -10.000000   \n",
      "aller_en_haut    0.000000 -8.696918 -12.971306   0.000000   5.185628   \n",
      "\n",
      "                                   2                         3                  \n",
      "                        2          0     1         2         0         1     2  \n",
      "aller_a_droite -12.454013 -11.116698 -30.0  8.333333 -1.180556  0.000000  50.0  \n",
      "aller_a_gauche  -2.000000  -1.000000   0.0  0.000000  0.000000  0.000000   0.0  \n",
      "aller_en_bas     0.000000  -0.526316 -30.0  0.000000 -3.711612  0.000000   0.0  \n",
      "aller_en_haut   -3.549784   0.000000 -20.0  0.000000  0.000000 -0.769231   0.0  \n",
      "== == == == == == == == == == == == == == == == == == == == \n",
      "epoch 10 reward =  -10\n",
      "                        0                                1             \\\n",
      "                        0          1          2          0          1   \n",
      "aller_a_droite   0.000000   0.000000   0.000000  -4.154040  -4.539683   \n",
      "aller_a_gauche -17.817993  -9.700582 -10.082900  -1.747475   0.000000   \n",
      "aller_en_bas   -17.431506  -2.659091   0.000000 -11.624058 -15.000000   \n",
      "aller_en_haut    0.000000 -10.196918 -14.971306   0.000000   4.560628   \n",
      "\n",
      "                                   2                         3                  \n",
      "                        2          0     1         2         0         1     2  \n",
      "aller_a_droite -15.787347 -11.116698 -40.0  8.333333 -1.180556  0.000000  50.0  \n",
      "aller_a_gauche  -2.000000  -1.000000   0.0  0.000000  0.000000  0.000000   0.0  \n",
      "aller_en_bas     0.000000  -0.526316 -30.0  0.000000 -3.711612  0.000000   0.0  \n",
      "aller_en_haut   -3.549784   0.000000 -20.0  0.000000  0.000000 -0.769231   0.0  \n",
      "== == == == == == == == == == == == == == == == == == == == \n",
      "epoch 11 reward =  -10\n",
      "                        0                                1             \\\n",
      "                        0          1          2          0          1   \n",
      "aller_a_droite   0.000000   0.000000   0.000000  -4.154040  -6.539683   \n",
      "aller_a_gauche -17.817993  -9.700582 -10.082900  -1.747475   0.000000   \n",
      "aller_en_bas   -19.173930  -4.325758   0.000000 -14.124058 -15.000000   \n",
      "aller_en_haut    0.000000 -11.196918 -18.760989   0.000000   4.560628   \n",
      "\n",
      "                                   2                         3                  \n",
      "                        2          0     1         2         0         1     2  \n",
      "aller_a_droite -15.787347 -14.450032 -40.0  8.333333 -1.180556  0.000000  50.0  \n",
      "aller_a_gauche  -2.000000  -1.000000   0.0  0.000000  0.000000  0.000000   0.0  \n",
      "aller_en_bas     0.000000  -5.526316 -30.0  0.000000 -3.711612  0.000000   0.0  \n",
      "aller_en_haut   -3.549784   0.000000 -30.0  0.000000  0.000000 -0.769231   0.0  \n",
      "== == == == == == == == == == == == == == == == == == == == \n",
      "epoch 12 reward =  -10\n",
      "                        0                                1             \\\n",
      "                        0          1          2          0          1   \n",
      "aller_a_droite   0.000000   0.000000   0.000000  -5.265151  -6.539683   \n",
      "aller_a_gauche -17.817993  -9.700582 -10.082900  -1.747475   0.000000   \n",
      "aller_en_bas   -19.173930  -4.325758   0.000000 -14.124058 -15.000000   \n",
      "aller_en_haut    0.000000 -11.196918 -18.760989   0.000000   4.560628   \n",
      "\n",
      "                                   2                         3                  \n",
      "                        2          0     1         2         0         1     2  \n",
      "aller_a_droite -15.787347 -15.700032 -40.0  8.333333 -2.847222  0.000000  50.0  \n",
      "aller_a_gauche  -2.000000  -6.000000   0.0  0.000000  0.000000  0.000000   0.0  \n",
      "aller_en_bas     0.000000  -6.954887 -30.0  0.000000 -9.544945  0.000000   0.0  \n",
      "aller_en_haut   -3.549784   0.000000 -40.0  0.000000  0.000000 -2.769231   0.0  \n",
      "== == == == == == == == == == == == == == == == == == == == \n",
      "epoch 13 reward =  50\n",
      "                        0                               1             \\\n",
      "                        0         1          2          0          1   \n",
      "aller_a_droite   0.000000  0.000000   0.000000  -5.265151   1.793651   \n",
      "aller_a_gauche -17.817993 -9.700582  -3.832900  -1.747475   0.000000   \n",
      "aller_en_bas   -19.173930  2.817100   0.000000 -14.124058 -15.000000   \n",
      "aller_en_haut    0.000000 -6.196918 -13.205433   0.000000   4.560628   \n",
      "\n",
      "                                   2                     3                   \n",
      "                        2          0     1     2         0         1      2  \n",
      "aller_a_droite -15.787347 -15.700032 -40.0  25.0 -2.847222  0.000000  100.0  \n",
      "aller_a_gauche  -2.000000  -6.000000   0.0   0.0  0.000000  0.000000    0.0  \n",
      "aller_en_bas     0.000000  -6.954887 -30.0   0.0 -9.544945  0.000000    0.0  \n",
      "aller_en_haut   18.950216   0.000000 -40.0  25.0  0.000000 -2.769231    0.0  \n",
      "== == == == == == == == == == == == == == == == == == == == \n",
      "epoch 14 reward =  -10\n",
      "                        0                               1             \\\n",
      "                        0         1          2          0          1   \n",
      "aller_a_droite   0.000000  0.000000   0.000000  -7.765151   1.793651   \n",
      "aller_a_gauche -18.929104 -9.700582  -3.832900  -1.747475   0.000000   \n",
      "aller_en_bas   -26.178259  2.817100   0.000000 -14.124058 -15.000000   \n",
      "aller_en_haut    0.000000 -8.280251 -13.205433   0.000000   4.560628   \n",
      "\n",
      "                                   2                     3                   \n",
      "                        2          0     1     2         0         1      2  \n",
      "aller_a_droite -15.787347 -19.033365 -40.0  25.0 -2.847222  0.000000  100.0  \n",
      "aller_a_gauche  -2.000000  -6.000000   0.0   0.0  0.000000  0.000000    0.0  \n",
      "aller_en_bas     0.000000 -11.954887 -30.0   0.0 -9.544945  0.000000    0.0  \n",
      "aller_en_haut   18.950216   0.000000 -50.0  25.0  0.000000 -2.769231    0.0  \n",
      "== == == == == == == == == == == == == == == == == == == == \n",
      "epoch 15 reward =  -10\n",
      "                        0                              1             \\\n",
      "                        0          1        2          0          1   \n",
      "aller_a_droite   0.000000   0.000000   0.0000  -7.765151   0.793651   \n",
      "aller_a_gauche -18.929104 -12.830924  -5.8329  -1.747475   0.000000   \n",
      "aller_en_bas   -29.692810   2.340909   0.0000 -14.124058 -15.000000   \n",
      "aller_en_haut    0.000000 -11.500850 -17.1900   0.000000   4.560628   \n",
      "\n",
      "                                   2                     3                   \n",
      "                        2          0     1     2         0         1      2  \n",
      "aller_a_droite -18.287347 -19.033365 -40.0  20.0 -2.847222  0.000000  100.0  \n",
      "aller_a_gauche  -2.000000  -6.000000   0.0   0.0  0.000000  0.000000    0.0  \n",
      "aller_en_bas     0.000000 -11.954887 -40.0   0.0 -9.544945  0.000000    0.0  \n",
      "aller_en_haut   15.616883   0.000000 -50.0  25.0  0.000000 -2.769231    0.0  \n",
      "== == == == == == == == == == == == == == == == == == == == \n",
      "epoch 16 reward =  -10\n",
      "                        0                              1             \\\n",
      "                        0          1        2          0          1   \n",
      "aller_a_droite   0.000000   0.000000   0.0000  -8.674242   0.793651   \n",
      "aller_a_gauche -18.929104 -12.830924  -5.8329  -1.747475   0.000000   \n",
      "aller_en_bas   -29.692810   2.340909   0.0000 -14.124058 -15.000000   \n",
      "aller_en_haut    0.000000 -11.500850 -17.1900   0.000000   4.560628   \n",
      "\n",
      "                                   2                      3                   \n",
      "                        2          0     1     2          0         1      2  \n",
      "aller_a_droite -18.287347 -20.033365 -40.0  20.0  -6.458333  0.000000  100.0  \n",
      "aller_a_gauche  -2.000000  -7.666667 -10.0   0.0   0.000000  0.000000    0.0  \n",
      "aller_en_bas     0.000000 -13.954887 -40.0   0.0 -14.306850  0.000000    0.0  \n",
      "aller_en_haut   15.616883   0.000000 -50.0  25.0   0.000000 -9.019231    0.0  \n",
      "== == == == == == == == == == == == == == == == == == == == \n",
      "epoch 17 reward =  -10\n",
      "                        0                              1             \\\n",
      "                        0          1        2          0          1   \n",
      "aller_a_droite   0.000000   0.000000   0.0000  -8.674242  -1.706349   \n",
      "aller_a_gauche -23.274342 -12.830924  -5.8329  -1.747475   0.000000   \n",
      "aller_en_bas   -29.692810   2.340909   0.0000 -17.457391 -15.000000   \n",
      "aller_en_haut    0.000000 -13.500850 -17.1900   0.000000  -0.439372   \n",
      "\n",
      "                                   2                      3                   \n",
      "                        2          0     1     2          0         1      2  \n",
      "aller_a_droite -18.287347 -20.033365 -50.0  20.0  -6.458333  0.000000  100.0  \n",
      "aller_a_gauche  -2.000000  -7.666667 -10.0   0.0   0.000000  0.000000    0.0  \n",
      "aller_en_bas     0.000000 -13.954887 -40.0   0.0 -14.306850  0.000000    0.0  \n",
      "aller_en_haut   15.616883   0.000000 -50.0  25.0   0.000000 -9.019231    0.0  \n",
      "== == == == == == == == == == == == == == == == == == == == \n",
      "epoch 18 reward =  -10\n",
      "                        0                                1             \\\n",
      "                        0          1          2          0          1   \n",
      "aller_a_droite   0.000000   0.000000   0.000000  -9.674242  -1.706349   \n",
      "aller_a_gauche -24.385453 -12.830924  -9.999567  -1.747475   0.000000   \n",
      "aller_en_bas   -29.692810   2.340909   0.000000 -17.457391 -15.000000   \n",
      "aller_en_haut    0.000000 -14.750850 -18.618571   0.000000  -0.439372   \n",
      "\n",
      "                                   2                      3                   \n",
      "                        2          0     1     2          0         1      2  \n",
      "aller_a_droite -23.620680 -20.033365 -50.0  15.0  -6.458333  0.000000  100.0  \n",
      "aller_a_gauche  -2.000000  -7.666667 -10.0   0.0   0.000000  0.000000    0.0  \n",
      "aller_en_bas     0.000000 -13.954887 -50.0   0.0 -14.306850  0.000000    0.0  \n",
      "aller_en_haut   15.616883   0.000000 -50.0  25.0   0.000000 -9.019231    0.0  \n",
      "== == == == == == == == == == == == == == == == == == == == \n",
      "epoch 19 reward =  -10\n",
      "                        0                                1             \\\n",
      "                        0          1          2          0          1   \n",
      "aller_a_droite   0.000000   0.000000   0.000000 -13.007576  -2.738095   \n",
      "aller_a_gauche -29.302120 -17.083181  -9.999567  -1.747475   0.000000   \n",
      "aller_en_bas   -35.732492   2.340909   0.000000 -18.670627 -15.000000   \n",
      "aller_en_haut    0.000000 -15.205395 -18.618571   0.000000  -6.106039   \n",
      "\n",
      "                                   2                      3                   \n",
      "                        2          0     1     2          0         1      2  \n",
      "aller_a_droite -23.620680 -20.033365 -60.0  15.0  -6.458333  0.000000  100.0  \n",
      "aller_a_gauche  -2.000000  -7.666667 -10.0   0.0   0.000000  0.000000    0.0  \n",
      "aller_en_bas     0.000000 -13.954887 -50.0   0.0 -14.306850  0.000000    0.0  \n",
      "aller_en_haut   15.616883   0.000000 -50.0  25.0   0.000000 -9.019231    0.0  \n",
      "== == == == == == == == == == == == == == == == == == == == \n",
      "epoch 20 reward =  -10\n",
      "                        0                                1             \\\n",
      "                        0          1          2          0          1   \n",
      "aller_a_droite   0.000000   0.000000   0.000000 -14.257576  -2.738095   \n",
      "aller_a_gauche -30.211210 -17.083181  -9.999567  -3.747475   0.000000   \n",
      "aller_en_bas   -37.843604   2.340909   0.000000 -24.503960 -15.000000   \n",
      "aller_en_haut    0.000000 -15.205395 -18.618571   0.000000 -11.106039   \n",
      "\n",
      "                                   2                      3                   \n",
      "                        2          0     1     2          0         1      2  \n",
      "aller_a_droite -23.620680 -21.461936 -70.0  15.0  -6.458333  0.000000  100.0  \n",
      "aller_a_gauche  -2.000000  -7.666667 -10.0   0.0   0.000000  0.000000    0.0  \n",
      "aller_en_bas     0.000000 -15.621554 -50.0   0.0 -14.306850  0.000000    0.0  \n",
      "aller_en_haut   15.616883   0.000000 -50.0  25.0   0.000000 -9.019231    0.0  \n",
      "== == == == == == == == == == == == == == == == == == == == \n",
      "epoch 21 reward =  -10\n",
      "                        0                                1             \\\n",
      "                        0          1          2          0          1   \n",
      "aller_a_droite   0.000000   0.000000   0.000000 -17.590909  -2.738095   \n",
      "aller_a_gauche -30.211210 -17.083181  -9.999567  -3.747475   0.000000   \n",
      "aller_en_bas   -40.343604   2.340909   0.000000 -24.503960 -15.000000   \n",
      "aller_en_haut    0.000000 -15.205395 -18.618571   0.000000 -16.106039   \n",
      "\n",
      "                                   2                      3                   \n",
      "                        2          0     1     2          0         1      2  \n",
      "aller_a_droite -23.620680 -21.461936 -80.0  15.0  -6.458333  0.000000  100.0  \n",
      "aller_a_gauche  -2.000000  -7.666667 -10.0   0.0   0.000000  0.000000    0.0  \n",
      "aller_en_bas     0.000000 -15.621554 -50.0   0.0 -14.306850  0.000000    0.0  \n",
      "aller_en_haut   15.616883   0.000000 -50.0  25.0   0.000000 -9.019231    0.0  \n",
      "== == == == == == == == == == == == == == == == == == == == \n",
      "epoch 22 reward =  -10\n",
      "                        0                                1             \\\n",
      "                        0          1          2          0          1   \n",
      "aller_a_droite   0.000000   0.000000   0.000000 -19.019480  -2.738095   \n",
      "aller_a_gauche -30.211210 -17.083181  -9.999567  -3.747475   0.000000   \n",
      "aller_en_bas   -40.343604   2.340909   0.000000 -24.503960 -15.000000   \n",
      "aller_en_haut    0.000000 -15.205395 -18.618571   0.000000 -16.106039   \n",
      "\n",
      "                                   2                      3                   \n",
      "                        2          0     1     2          0         1      2  \n",
      "aller_a_droite -23.620680 -23.128603 -80.0  15.0  -8.958333  0.000000  100.0  \n",
      "aller_a_gauche  -2.000000 -12.666667 -10.0   0.0   0.000000  0.000000    0.0  \n",
      "aller_en_bas     0.000000 -17.621554 -50.0   0.0 -17.640183  0.000000    0.0  \n",
      "aller_en_haut   15.616883   0.000000 -60.0  25.0   0.000000 -9.019231    0.0  \n",
      "== == == == == == == == == == == == == == == == == == == == \n",
      "epoch 23 reward =  -10\n",
      "                        0                                1             \\\n",
      "                        0          1          2          0          1   \n",
      "aller_a_droite   0.000000   0.000000   0.000000 -20.441049  -2.738095   \n",
      "aller_a_gauche -30.980441 -17.609496  -9.999567  -5.414141   0.000000   \n",
      "aller_en_bas   -40.899159   2.340909   0.000000 -25.218246 -15.000000   \n",
      "aller_en_haut    0.000000 -15.705395 -18.618571   0.000000 -16.106039   \n",
      "\n",
      "                                   2                      3                   \n",
      "                        2          0     1     2          0         1      2  \n",
      "aller_a_droite -23.620680 -25.773805 -80.0  15.0 -17.208333  0.000000  100.0  \n",
      "aller_a_gauche  -2.000000 -20.166667 -10.0   0.0   0.000000  0.000000    0.0  \n",
      "aller_en_bas     0.000000 -17.621554 -50.0   0.0 -19.068755  0.000000    0.0  \n",
      "aller_en_haut   15.616883   0.000000 -70.0  25.0   0.000000 -9.019231    0.0  \n",
      "== == == == == == == == == == == == == == == == == == == == \n",
      "epoch 24 reward =  -10\n",
      "                        0                                1             \\\n",
      "                        0          1          2          0          1   \n",
      "aller_a_droite   0.000000   0.000000   0.000000 -20.441049  -5.238095   \n",
      "aller_a_gauche -30.980441 -17.609496  -9.999567  -5.414141   0.000000   \n",
      "aller_en_bas   -40.899159   2.340909   0.000000 -28.551579 -15.000000   \n",
      "aller_en_haut    0.000000 -17.705395 -18.618571   0.000000 -21.106039   \n",
      "\n",
      "                                   2                      3                   \n",
      "                        2          0     1     2          0         1      2  \n",
      "aller_a_droite -23.620680 -25.773805 -90.0  15.0 -17.208333  0.000000  100.0  \n",
      "aller_a_gauche  -2.000000 -20.166667 -10.0   0.0   0.000000  0.000000    0.0  \n",
      "aller_en_bas     0.000000 -17.621554 -50.0   0.0 -19.068755  0.000000    0.0  \n",
      "aller_en_haut   15.616883   0.000000 -70.0  25.0   0.000000 -9.019231    0.0  \n",
      "== == == == == == == == == == == == == == == == == == == == \n",
      "epoch 25 reward =  -10\n",
      "                        0                                1             \\\n",
      "                        0          1          2          0          1   \n",
      "aller_a_droite   0.000000   0.000000   0.000000 -21.869620 -10.238095   \n",
      "aller_a_gauche -30.980441 -19.609496  -9.999567  -5.414141   0.000000   \n",
      "aller_en_bas   -44.649159   2.340909   0.000000 -28.551579 -15.000000   \n",
      "aller_en_haut    0.000000 -21.038729 -18.618571   0.000000 -22.772705   \n",
      "\n",
      "                                   2                       3                   \n",
      "                        2          0      1     2          0         1      2  \n",
      "aller_a_droite -23.620680 -25.773805 -100.0  15.0 -17.208333  0.000000  100.0  \n",
      "aller_a_gauche  -2.000000 -20.166667  -10.0   0.0   0.000000  0.000000    0.0  \n",
      "aller_en_bas     0.000000 -17.621554  -50.0   0.0 -19.068755  0.000000    0.0  \n",
      "aller_en_haut   15.616883   0.000000  -70.0  25.0   0.000000 -9.019231    0.0  \n",
      "== == == == == == == == == == == == == == == == == == == == \n",
      "epoch 26 reward =  -10\n",
      "                        0                                1             \\\n",
      "                        0          1          2          0          1   \n",
      "aller_a_droite   0.000000   0.000000   0.000000 -21.869620 -14.192982   \n",
      "aller_a_gauche -32.091552 -22.165052 -12.056677  -5.414141   0.000000   \n",
      "aller_en_bas   -46.558250   1.007576   0.000000 -28.551579 -20.000000   \n",
      "aller_en_haut    0.000000 -22.611309 -21.213671   0.000000 -22.772705   \n",
      "\n",
      "                                   2                            3            \\\n",
      "                        2          0      1          2          0         1   \n",
      "aller_a_droite -24.719581 -25.773805 -110.0  14.583333 -17.208333  0.000000   \n",
      "aller_a_gauche  -2.434783 -20.166667  -10.0   0.000000   0.000000  0.000000   \n",
      "aller_en_bas     0.000000 -17.621554  -50.0   0.000000 -19.068755  0.000000   \n",
      "aller_en_haut    9.383550   0.000000  -70.0  25.000000   0.000000 -9.019231   \n",
      "\n",
      "                       \n",
      "                    2  \n",
      "aller_a_droite  100.0  \n",
      "aller_a_gauche    0.0  \n",
      "aller_en_bas      0.0  \n",
      "aller_en_haut     0.0  \n",
      "== == == == == == == == == == == == == == == == == == == == \n",
      "epoch 27 reward =  -10\n",
      "                        0                                1             \\\n",
      "                        0          1          2          0          1   \n",
      "aller_a_droite   0.000000   0.000000   0.000000 -24.250573 -15.192982   \n",
      "aller_a_gauche -32.091552 -25.018587 -12.056677  -5.414141   0.000000   \n",
      "aller_en_bas   -49.236821   1.007576   0.000000 -30.551579 -20.000000   \n",
      "aller_en_haut    0.000000 -22.611309 -21.213671   0.000000 -26.041936   \n",
      "\n",
      "                                   2                            3            \\\n",
      "                        2          0      1          2          0         1   \n",
      "aller_a_droite -24.719581 -25.773805 -110.0   9.583333 -17.208333  0.000000   \n",
      "aller_a_gauche  -2.434783 -20.166667  -10.0   0.000000   0.000000  0.000000   \n",
      "aller_en_bas     0.000000 -17.621554  -60.0   0.000000 -19.068755  0.000000   \n",
      "aller_en_haut    6.050216   0.000000  -70.0  25.000000   0.000000 -9.019231   \n",
      "\n",
      "                       \n",
      "                    2  \n",
      "aller_a_droite  100.0  \n",
      "aller_a_gauche    0.0  \n",
      "aller_en_bas      0.0  \n",
      "aller_en_haut     0.0  \n",
      "== == == == == == == == == == == == == == == == == == == == \n",
      "epoch 28 reward =  -10\n",
      "                        0                                1             \\\n",
      "                        0          1          2          0          1   \n",
      "aller_a_droite   0.000000   0.000000   0.000000 -24.726763 -15.192982   \n",
      "aller_a_gauche -32.091552 -25.018587 -16.818332  -5.969697   0.000000   \n",
      "aller_en_bas   -49.236821  -0.420996   0.000000 -31.139814 -22.500000   \n",
      "aller_en_haut    0.000000 -22.611309 -23.991449   0.000000 -26.666936   \n",
      "\n",
      "                                   2                            3            \\\n",
      "                        2          0      1          2          0         1   \n",
      "aller_a_droite -26.719581 -26.273805 -110.0   4.583333 -17.208333  0.000000   \n",
      "aller_a_gauche  -2.434783 -20.166667  -10.0   0.000000   0.000000  0.000000   \n",
      "aller_en_bas     0.000000 -18.147870  -70.0   0.000000 -19.068755  0.000000   \n",
      "aller_en_haut    1.335931   0.000000  -70.0  25.000000   0.000000 -9.019231   \n",
      "\n",
      "                       \n",
      "                    2  \n",
      "aller_a_droite  100.0  \n",
      "aller_a_gauche    0.0  \n",
      "aller_en_bas      0.0  \n",
      "aller_en_haut     0.0  \n",
      "== == == == == == == == == == == == == == == == == == == == \n"
     ]
    },
    {
     "name": "stdout",
     "output_type": "stream",
     "text": [
      "epoch 29 reward =  -10\n",
      "                        0                                1             \\\n",
      "                        0          1          2          0          1   \n",
      "aller_a_droite   0.000000   0.000000   0.000000 -28.060097 -15.192982   \n",
      "aller_a_gauche -38.258219 -25.018587 -16.818332  -5.969697   0.000000   \n",
      "aller_en_bas   -51.915393  -0.420996   0.000000 -31.139814 -22.500000   \n",
      "aller_en_haut    0.000000 -22.611309 -23.991449   0.000000 -26.666936   \n",
      "\n",
      "                                   2                            3            \\\n",
      "                        2          0      1          2          0         1   \n",
      "aller_a_droite -26.719581 -31.273805 -110.0   4.583333 -17.208333  0.000000   \n",
      "aller_a_gauche  -2.434783 -20.166667  -10.0   0.000000   0.000000  0.000000   \n",
      "aller_en_bas     0.000000 -18.147870  -70.0   0.000000 -19.068755  0.000000   \n",
      "aller_en_haut    1.335931   0.000000  -80.0  25.000000   0.000000 -9.019231   \n",
      "\n",
      "                       \n",
      "                    2  \n",
      "aller_a_droite  100.0  \n",
      "aller_a_gauche    0.0  \n",
      "aller_en_bas      0.0  \n",
      "aller_en_haut     0.0  \n"
     ]
    }
   ],
   "source": [
    "# epoch 0\n",
    "Q_value = init_Q_value()\n",
    "for i in range(30):\n",
    "    print(\"== == \"*10)\n",
    "    print(\"epoch\", i, \"reward = \", get_reward_of_episode(episode))\n",
    "    print(pd.DataFrame(Q_value))\n",
    "    \n",
    "    episode = creer_episode_aleatoire(environnement, 0, 0, actions_possibles)\n",
    "    Q_value = update_q_value(Q_value, episode)\n",
    "    \n",
    "    "
   ]
  },
  {
   "cell_type": "code",
   "execution_count": 273,
   "metadata": {},
   "outputs": [],
   "source": [
    "def get_policy(Q_value):\n",
    "    pass"
   ]
  },
  {
   "cell_type": "code",
   "execution_count": 280,
   "metadata": {},
   "outputs": [
    {
     "data": {
      "text/plain": [
       "'aller_a_droite'"
      ]
     },
     "execution_count": 280,
     "metadata": {},
     "output_type": "execute_result"
    }
   ],
   "source": []
  },
  {
   "cell_type": "code",
   "execution_count": 288,
   "metadata": {},
   "outputs": [],
   "source": [
    "def get_policy(Q_value):\n",
    "    policy = {}\n",
    "    for position, actions in Q_value.items():\n",
    "        meilleure_action =  max(actions, key=actions.get)\n",
    "        policy[position] = meilleure_action\n",
    "    return policy"
   ]
  },
  {
   "cell_type": "code",
   "execution_count": 290,
   "metadata": {},
   "outputs": [],
   "source": [
    "policy = get_policy(Q_value)"
   ]
  },
  {
   "cell_type": "code",
   "execution_count": 294,
   "metadata": {},
   "outputs": [
    {
     "data": {
      "text/plain": [
       "dict_keys([(0, 0), (0, 1), (0, 2), (1, 0), (1, 1), (1, 2), (2, 0), (2, 1), (2, 2), (3, 0), (3, 1), (3, 2)])"
      ]
     },
     "execution_count": 294,
     "metadata": {},
     "output_type": "execute_result"
    }
   ],
   "source": [
    "policy.keys()"
   ]
  },
  {
   "cell_type": "code",
   "execution_count": 295,
   "metadata": {},
   "outputs": [
    {
     "data": {
      "text/plain": [
       "'aller_a_droite'"
      ]
     },
     "execution_count": 295,
     "metadata": {},
     "output_type": "execute_result"
    }
   ],
   "source": []
  },
  {
   "cell_type": "code",
   "execution_count": 305,
   "metadata": {},
   "outputs": [
    {
     "name": "stdout",
     "output_type": "stream",
     "text": [
      "0 0 aller_a_droite =>1 0\n",
      "1 0 aller_en_haut =>1 1\n",
      "1 1 aller_a_gauche =>0 1\n",
      "0 1 aller_a_droite =>1 1\n",
      "1 1 aller_a_gauche =>0 1\n",
      "0 1 aller_a_droite =>1 1\n",
      "1 1 aller_a_gauche =>0 1\n",
      "0 1 aller_a_droite =>1 1\n",
      "1 1 aller_a_gauche =>0 1\n",
      "0 1 aller_a_droite =>1 1\n",
      "1 1 aller_a_gauche =>0 1\n",
      "0 1 aller_a_droite =>1 1\n",
      "1 1 aller_a_gauche =>0 1\n",
      "0 1 aller_a_droite =>1 1\n",
      "1 1 aller_a_gauche =>0 1\n",
      "0 1 aller_a_droite =>1 1\n",
      "1 1 aller_a_gauche =>0 1\n",
      "0 1 aller_a_droite =>1 1\n",
      "1 1 aller_a_gauche =>0 1\n",
      "0 1 aller_a_droite =>1 1\n",
      "1 1 aller_a_gauche =>0 1\n",
      "0 1 aller_a_droite =>1 1\n",
      "1 1 aller_a_gauche =>0 1\n",
      "0 1 aller_a_droite =>1 1\n",
      "1 1 aller_a_gauche =>0 1\n",
      "0 1 aller_a_droite =>1 1\n",
      "1 1 aller_a_gauche =>0 1\n",
      "0 1 aller_a_droite =>1 1\n",
      "1 1 aller_a_gauche =>0 1\n",
      "0 1 aller_a_droite =>1 1\n",
      "1 1 aller_a_gauche =>0 1\n",
      "0 1 aller_a_droite =>1 1\n",
      "1 1 aller_a_gauche =>0 1\n",
      "0 1 aller_a_droite =>1 1\n",
      "1 1 aller_a_gauche =>0 1\n",
      "0 1 aller_a_droite =>1 1\n",
      "1 1 aller_a_gauche =>0 1\n",
      "0 1 aller_a_droite =>1 1\n",
      "1 1 aller_a_gauche =>0 1\n",
      "0 1 aller_a_droite =>1 1\n",
      "1 1 aller_a_gauche =>0 1\n",
      "0 1 aller_a_droite =>1 1\n",
      "1 1 aller_a_gauche =>0 1\n",
      "0 1 aller_a_droite =>1 1\n",
      "1 1 aller_a_gauche =>0 1\n",
      "0 1 aller_a_droite =>1 1\n",
      "1 1 aller_a_gauche =>0 1\n",
      "0 1 aller_a_droite =>1 1\n",
      "1 1 aller_a_gauche =>0 1\n",
      "0 1 aller_a_droite =>1 1\n",
      "1 1 aller_a_gauche =>0 1\n",
      "0 1 aller_a_droite =>1 1\n",
      "1 1 aller_a_gauche =>0 1\n",
      "0 1 aller_a_droite =>1 1\n",
      "1 1 aller_a_gauche =>0 1\n",
      "0 1 aller_a_droite =>1 1\n",
      "1 1 aller_a_gauche =>0 1\n",
      "0 1 aller_a_droite =>1 1\n",
      "1 1 aller_a_gauche =>0 1\n",
      "0 1 aller_a_droite =>1 1\n",
      "1 1 aller_a_gauche =>0 1\n",
      "0 1 aller_a_droite =>1 1\n",
      "1 1 aller_a_gauche =>0 1\n",
      "0 1 aller_a_droite =>1 1\n",
      "1 1 aller_a_gauche =>0 1\n",
      "0 1 aller_a_droite =>1 1\n",
      "1 1 aller_a_gauche =>0 1\n",
      "0 1 aller_a_droite =>1 1\n",
      "1 1 aller_a_gauche =>0 1\n",
      "0 1 aller_a_droite =>1 1\n",
      "1 1 aller_a_gauche =>0 1\n",
      "0 1 aller_a_droite =>1 1\n",
      "1 1 aller_a_gauche =>0 1\n",
      "0 1 aller_a_droite =>1 1\n",
      "1 1 aller_a_gauche =>0 1\n",
      "0 1 aller_a_droite =>1 1\n",
      "1 1 aller_a_gauche =>0 1\n",
      "0 1 aller_a_droite =>1 1\n",
      "1 1 aller_a_gauche =>0 1\n",
      "0 1 aller_a_droite =>1 1\n",
      "1 1 aller_a_gauche =>0 1\n",
      "0 1 aller_a_droite =>1 1\n",
      "1 1 aller_a_gauche =>0 1\n",
      "0 1 aller_a_droite =>1 1\n",
      "1 1 aller_a_gauche =>0 1\n",
      "0 1 aller_a_droite =>1 1\n",
      "1 1 aller_a_gauche =>0 1\n",
      "0 1 aller_a_droite =>1 1\n",
      "1 1 aller_a_gauche =>0 1\n",
      "0 1 aller_a_droite =>1 1\n",
      "1 1 aller_a_gauche =>0 1\n",
      "0 1 aller_a_droite =>1 1\n",
      "1 1 aller_a_gauche =>0 1\n",
      "0 1 aller_a_droite =>1 1\n",
      "1 1 aller_a_gauche =>0 1\n",
      "0 1 aller_a_droite =>1 1\n",
      "1 1 aller_a_gauche =>0 1\n",
      "0 1 aller_a_droite =>1 1\n",
      "1 1 aller_a_gauche =>0 1\n",
      "0 1 aller_a_droite =>1 1\n",
      "1 1 aller_a_gauche =>0 1\n",
      "0 1 aller_a_droite =>1 1\n"
     ]
    },
    {
     "data": {
      "text/plain": [
       "101"
      ]
     },
     "execution_count": 305,
     "metadata": {},
     "output_type": "execute_result"
    }
   ],
   "source": [
    "x_actuel = 0\n",
    "y_actuel = 0\n",
    "nb_de_coup = -1\n",
    "max = 100\n",
    "while not fini:\n",
    "    nb_de_coup += 1\n",
    "    nom_action_choisie  = policy[(x_actuel,y_actuel)]\n",
    "    print(x_actuel,y_actuel, nom_action_choisie, \"=>\", end=\"\")\n",
    "    step = environnement(x_actuel,y_actuel, actions_possibles[nom_action_choisie])\n",
    "    x_actuel, y_actuel, reward, fini = step\n",
    "    print(x_actuel, y_actuel)\n",
    "    if nb_de_coup > max:\n",
    "        break\n",
    "    \n",
    "nb_de_coup"
   ]
  },
  {
   "cell_type": "code",
   "execution_count": 291,
   "metadata": {},
   "outputs": [
    {
     "data": {
      "text/plain": [
       "{(0, 0): 'aller_a_droite',\n",
       " (0, 1): 'aller_a_droite',\n",
       " (0, 2): 'aller_a_droite',\n",
       " (1, 0): 'aller_en_haut',\n",
       " (1, 1): 'aller_a_gauche',\n",
       " (1, 2): 'aller_en_bas',\n",
       " (2, 0): 'aller_en_haut',\n",
       " (2, 1): 'aller_a_gauche',\n",
       " (2, 2): 'aller_en_haut',\n",
       " (3, 0): 'aller_a_gauche',\n",
       " (3, 1): 'aller_a_droite',\n",
       " (3, 2): 'aller_a_droite'}"
      ]
     },
     "execution_count": 291,
     "metadata": {},
     "output_type": "execute_result"
    }
   ],
   "source": [
    "policy"
   ]
  },
  {
   "cell_type": "markdown",
   "metadata": {},
   "source": [
    "# Dessiner un épisode"
   ]
  },
  {
   "cell_type": "code",
   "execution_count": 88,
   "metadata": {},
   "outputs": [],
   "source": [
    "def draw_episode(episode):\n",
    "    import pandas as pd\n",
    "    points = [x[1][:2] for x in episode]\n",
    "    df = pd.DataFrame(points)\n",
    "    %matplotlib inline\n",
    "    df.plot.scatter(x=0, y=1, alpha=0.2, xlim=[-0.5,3.5], ylim=[-0.5,2.5])"
   ]
  },
  {
   "cell_type": "code",
   "execution_count": 89,
   "metadata": {},
   "outputs": [
    {
     "data": {
      "text/plain": [
       "[['aller_en_haut', (0, 1, 0, False)],\n",
       " ['aller_en_haut', (0, 2, 0, False)],\n",
       " ['aller_a_gauche', (0, 2, 0, False)],\n",
       " ['aller_en_haut', (0, 2, 0, False)],\n",
       " ['aller_en_haut', (0, 2, 0, False)],\n",
       " ['aller_en_bas', (0, 1, 0, False)],\n",
       " ['aller_en_bas', (0, 0, 0, False)],\n",
       " ['aller_a_droite', (1, 0, 0, False)],\n",
       " ['aller_en_haut', (1, 1, 0, False)],\n",
       " ['aller_en_bas', (1, 0, 0, False)],\n",
       " ['aller_en_bas', (1, 0, 0, False)],\n",
       " ['aller_en_bas', (1, 0, 0, False)],\n",
       " ['aller_en_bas', (1, 0, 0, False)],\n",
       " ['aller_a_gauche', (0, 0, 0, False)],\n",
       " ['aller_en_haut', (0, 1, 0, False)],\n",
       " ['aller_a_droite', (1, 1, 0, False)],\n",
       " ['aller_a_droite', (2, 1, -10, True)]]"
      ]
     },
     "execution_count": 89,
     "metadata": {},
     "output_type": "execute_result"
    },
    {
     "data": {
      "image/png": "[encoded data removed]",
      "text/plain": [
       "<Figure size 432x288 with 1 Axes>"
      ]
     },
     "metadata": {},
     "output_type": "display_data"
    }
   ],
   "source": [
    "draw_episode(episode)\n",
    "episode"
   ]
  },
  {
   "cell_type": "markdown",
   "metadata": {},
   "source": [
    "# Trash"
   ]
  },
  {
   "cell_type": "code",
   "execution_count": 245,
   "metadata": {},
   "outputs": [],
   "source": [
    "def creer_episode_selon_Q_value(environnement, x_initial, y_initial, actions_possibles, \n",
    "                                Q_value):\n",
    "    est_fini = False\n",
    "    steps = []\n",
    "    n  = -1\n",
    "    import numpy\n",
    "    import math\n",
    "    \n",
    "    while not est_fini:\n",
    "        n +=1\n",
    "        actions_a_choisir  = list(actions_possibles.keys())\n",
    "        # Pondération des actions selon leur valeur attendue\n",
    "        valeurs_par_action = Q_value[(x_initial, y_initial)] \n",
    "        list_val           = valeurs_par_action.values()\n",
    "        somme_des_valeurs  = abs(sum(list_val))\n",
    "        probas_de_valeur   = [ 1 + x/somme_des_valeurs if x>0 else x for x in list_val]\n",
    "        # choix pondéré\n",
    "        if sum(probas_de_valeur)==0:\n",
    "            probas_de_valeur = [1/4,1/4,1/4,1/4]\n",
    "        else:\n",
    "            sum_probas_de_valeur   = sum(probas_de_valeur)\n",
    "            probas_de_valeur       = [x/sum_probas_de_valeur for x in probas_de_valeur]\n",
    "        \n",
    "        print(\"probas_de_valeur = \", probas_de_valeur)\n",
    "        nom_action_choisie = numpy.random.choice(actions_a_choisir, p=probas_de_valeur)\n",
    "        action_choisie     = actions_possibles[nom_action_choisie]\n",
    "        step               = environnement(x_initial,y_initial, action_choisie)\n",
    "        new_x, new_y, reward, est_fini = step\n",
    "        x_initial,y_initial = new_x, new_y\n",
    "        steps.append([nom_action_choisie, step])\n",
    "        if est_fini:\n",
    "            return steps\n",
    "        if n>1000:\n",
    "            return steps"
   ]
  },
  {
   "cell_type": "code",
   "execution_count": null,
   "metadata": {},
   "outputs": [],
   "source": []
  }
 ],
 "metadata": {
  "kernelspec": {
   "display_name": "Python 3",
   "language": "python",
   "name": "python3"
  },
  "language_info": {
   "codemirror_mode": {
    "name": "ipython",
    "version": 3
   },
   "file_extension": ".py",
   "mimetype": "text/x-python",
   "name": "python",
   "nbconvert_exporter": "python",
   "pygments_lexer": "ipython3",
   "version": "3.6.5"
  }
 },
 "nbformat": 4,
 "nbformat_minor": 2
}
