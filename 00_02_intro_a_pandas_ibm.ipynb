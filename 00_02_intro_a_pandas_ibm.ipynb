{
 "cells": [
  {
   "cell_type": "markdown",
   "metadata": {
    "collapsed": false
   },
   "source": [
    "# Pandas\n"
   ]
  },
  {
   "cell_type": "code",
   "execution_count": 2,
   "metadata": {
    "collapsed": false
   },
   "outputs": [
    {
     "data": {
      "text/html": [
       "<div>\n",
       "<table border=\"1\" class=\"dataframe\">\n",
       "  <thead>\n",
       "    <tr style=\"text-align: right;\">\n",
       "      <th></th>\n",
       "      <th>metiers</th>\n",
       "      <th>noms</th>\n",
       "    </tr>\n",
       "  </thead>\n",
       "  <tbody>\n",
       "    <tr>\n",
       "      <th>0</th>\n",
       "      <td>journaliste</td>\n",
       "      <td>tintin</td>\n",
       "    </tr>\n",
       "    <tr>\n",
       "      <th>1</th>\n",
       "      <td>capitaine</td>\n",
       "      <td>hadock</td>\n",
       "    </tr>\n",
       "  </tbody>\n",
       "</table>\n",
       "</div>"
      ],
      "text/plain": [
       "       metiers    noms\n",
       "0  journaliste  tintin\n",
       "1    capitaine  hadock"
      ]
     },
     "execution_count": 2,
     "metadata": {},
     "output_type": "execute_result"
    }
   ],
   "source": [
    "#création d'une dataframe à partir d'un dictionnaire\n",
    "import pandas as pd\n",
    "metiers     = [ 'journaliste', 'capitaine']\n",
    "noms        = ['tintin', 'hadock' ]\n",
    "personnages = { 'metiers' : metiers , 'noms'    : noms   }\n",
    "\n",
    "df = pd.DataFrame(personnages)\n",
    "df"
   ]
  },
  {
   "cell_type": "code",
   "execution_count": 3,
   "metadata": {
    "collapsed": false
   },
   "outputs": [
    {
     "name": "stdout",
     "output_type": "stream",
     "text": [
      "shape   =  (2, 2)\n",
      "columns =  Index([u'metiers', u'noms'], dtype='object')\n",
      "metiers =  0    journaliste\n",
      "1      capitaine\n",
      "Name: metiers, dtype: object\n",
      "type de colonne =  <class 'pandas.core.series.Series'>\n"
     ]
    }
   ],
   "source": [
    "#Infos sur la dataframe\n",
    "print \"shape   = \", df.shape\n",
    "print \"columns = \", df.columns # les colonnes sont les clefs du dico\n",
    "print \"metiers = \", df['metiers']\n",
    "print \"type de colonne = \", type(df['metiers']) # une colonne est une série"
   ]
  },
  {
   "cell_type": "code",
   "execution_count": 4,
   "metadata": {
    "collapsed": false
   },
   "outputs": [
    {
     "data": {
      "text/html": [
       "<div>\n",
       "<table border=\"1\" class=\"dataframe\">\n",
       "  <thead>\n",
       "    <tr style=\"text-align: right;\">\n",
       "      <th></th>\n",
       "      <th>metiers</th>\n",
       "      <th>noms</th>\n",
       "      <th>age</th>\n",
       "    </tr>\n",
       "  </thead>\n",
       "  <tbody>\n",
       "    <tr>\n",
       "      <th>0</th>\n",
       "      <td>journaliste</td>\n",
       "      <td>tintin</td>\n",
       "      <td>84</td>\n",
       "    </tr>\n",
       "    <tr>\n",
       "      <th>1</th>\n",
       "      <td>capitaine</td>\n",
       "      <td>hadock</td>\n",
       "      <td>81</td>\n",
       "    </tr>\n",
       "  </tbody>\n",
       "</table>\n",
       "</div>"
      ],
      "text/plain": [
       "       metiers    noms  age\n",
       "0  journaliste  tintin   84\n",
       "1    capitaine  hadock   81"
      ]
     },
     "execution_count": 4,
     "metadata": {},
     "output_type": "execute_result"
    }
   ],
   "source": [
    "# Ajout d'une colonne\n",
    "ages       = [84, 81]\n",
    "df['age']  = ages\n",
    "df"
   ]
  },
  {
   "cell_type": "code",
   "execution_count": 5,
   "metadata": {
    "collapsed": false
   },
   "outputs": [
    {
     "data": {
      "text/html": [
       "<div>\n",
       "<table border=\"1\" class=\"dataframe\">\n",
       "  <thead>\n",
       "    <tr style=\"text-align: right;\">\n",
       "      <th></th>\n",
       "      <th>metiers</th>\n",
       "      <th>noms</th>\n",
       "      <th>age</th>\n",
       "    </tr>\n",
       "    <tr>\n",
       "      <th>type</th>\n",
       "      <th></th>\n",
       "      <th></th>\n",
       "      <th></th>\n",
       "    </tr>\n",
       "  </thead>\n",
       "  <tbody>\n",
       "    <tr>\n",
       "      <th>heros</th>\n",
       "      <td>journaliste</td>\n",
       "      <td>tintin</td>\n",
       "      <td>84</td>\n",
       "    </tr>\n",
       "    <tr>\n",
       "      <th>secondaire</th>\n",
       "      <td>capitaine</td>\n",
       "      <td>hadock</td>\n",
       "      <td>81</td>\n",
       "    </tr>\n",
       "  </tbody>\n",
       "</table>\n",
       "</div>"
      ],
      "text/plain": [
       "                metiers    noms  age\n",
       "type                                \n",
       "heros       journaliste  tintin   84\n",
       "secondaire    capitaine  hadock   81"
      ]
     },
     "execution_count": 5,
     "metadata": {},
     "output_type": "execute_result"
    }
   ],
   "source": [
    "#manipulation de l'index\n",
    "df.index      = [ \"heros\", \"secondaire\" ]\n",
    "df.index.name = 'type'\n",
    "df"
   ]
  },
  {
   "cell_type": "code",
   "execution_count": 6,
   "metadata": {
    "collapsed": false
   },
   "outputs": [
    {
     "data": {
      "text/html": [
       "<div>\n",
       "<table border=\"1\" class=\"dataframe\">\n",
       "  <thead>\n",
       "    <tr style=\"text-align: right;\">\n",
       "      <th></th>\n",
       "      <th>metiers</th>\n",
       "      <th>noms</th>\n",
       "      <th>age</th>\n",
       "    </tr>\n",
       "  </thead>\n",
       "  <tbody>\n",
       "    <tr>\n",
       "      <th>1931-01-01</th>\n",
       "      <td>journaliste</td>\n",
       "      <td>tintin</td>\n",
       "      <td>84</td>\n",
       "    </tr>\n",
       "    <tr>\n",
       "      <th>1931-01-02</th>\n",
       "      <td>capitaine</td>\n",
       "      <td>hadock</td>\n",
       "      <td>81</td>\n",
       "    </tr>\n",
       "  </tbody>\n",
       "</table>\n",
       "</div>"
      ],
      "text/plain": [
       "                metiers    noms  age\n",
       "1931-01-01  journaliste  tintin   84\n",
       "1931-01-02    capitaine  hadock   81"
      ]
     },
     "execution_count": 6,
     "metadata": {},
     "output_type": "execute_result"
    }
   ],
   "source": [
    "# creation d'un index temporel\n",
    "dates = pd.date_range( start = \"01/01/1931\" ,  end  =  \"01/02/1931\" )\n",
    "df.index = dates\n",
    "df"
   ]
  },
  {
   "cell_type": "code",
   "execution_count": 7,
   "metadata": {
    "collapsed": false
   },
   "outputs": [
    {
     "data": {
      "text/html": [
       "<div>\n",
       "<table border=\"1\" class=\"dataframe\">\n",
       "  <thead>\n",
       "    <tr style=\"text-align: right;\">\n",
       "      <th></th>\n",
       "      <th>Origine</th>\n",
       "      <th>titre</th>\n",
       "    </tr>\n",
       "  </thead>\n",
       "  <tbody>\n",
       "    <tr>\n",
       "      <th>1931-01-01</th>\n",
       "      <td>France</td>\n",
       "      <td>Au congo</td>\n",
       "    </tr>\n",
       "    <tr>\n",
       "      <th>1931-01-02</th>\n",
       "      <td>France</td>\n",
       "      <td>Cigares pharaon</td>\n",
       "    </tr>\n",
       "  </tbody>\n",
       "</table>\n",
       "</div>"
      ],
      "text/plain": [
       "           Origine            titre\n",
       "1931-01-01  France         Au congo\n",
       "1931-01-02  France  Cigares pharaon"
      ]
     },
     "execution_count": 7,
     "metadata": {},
     "output_type": "execute_result"
    }
   ],
   "source": [
    "# creation d'une seconde dataframe\n",
    "bds = pd.DataFrame({ 'titre' : ['Au congo',  'Cigares pharaon'],\n",
    "                   'Origine' : ['France',  'France']} )\n",
    "# affectation du même index temporelle\n",
    "bds.index = dates\n",
    "bds"
   ]
  },
  {
   "cell_type": "code",
   "execution_count": 8,
   "metadata": {
    "collapsed": false
   },
   "outputs": [
    {
     "data": {
      "text/html": [
       "<div>\n",
       "<table border=\"1\" class=\"dataframe\">\n",
       "  <thead>\n",
       "    <tr style=\"text-align: right;\">\n",
       "      <th></th>\n",
       "      <th>metiers</th>\n",
       "      <th>noms</th>\n",
       "      <th>age</th>\n",
       "      <th>titre</th>\n",
       "    </tr>\n",
       "  </thead>\n",
       "  <tbody>\n",
       "    <tr>\n",
       "      <th>1931-01-01</th>\n",
       "      <td>journaliste</td>\n",
       "      <td>tintin</td>\n",
       "      <td>84</td>\n",
       "      <td>Au congo</td>\n",
       "    </tr>\n",
       "    <tr>\n",
       "      <th>1931-01-02</th>\n",
       "      <td>capitaine</td>\n",
       "      <td>hadock</td>\n",
       "      <td>81</td>\n",
       "      <td>Cigares pharaon</td>\n",
       "    </tr>\n",
       "  </tbody>\n",
       "</table>\n",
       "</div>"
      ],
      "text/plain": [
       "                metiers    noms  age            titre\n",
       "1931-01-01  journaliste  tintin   84         Au congo\n",
       "1931-01-02    capitaine  hadock   81  Cigares pharaon"
      ]
     },
     "execution_count": 8,
     "metadata": {},
     "output_type": "execute_result"
    }
   ],
   "source": [
    "#usage de l'index pour ajouter une colonne\n",
    "df[\"titre\"] = bds[\"titre\"]\n",
    "df"
   ]
  },
  {
   "cell_type": "code",
   "execution_count": 9,
   "metadata": {
    "collapsed": false
   },
   "outputs": [
    {
     "data": {
      "text/html": [
       "<div>\n",
       "<table border=\"1\" class=\"dataframe\">\n",
       "  <thead>\n",
       "    <tr style=\"text-align: right;\">\n",
       "      <th></th>\n",
       "      <th>Origine</th>\n",
       "      <th>age</th>\n",
       "      <th>metiers</th>\n",
       "      <th>noms</th>\n",
       "      <th>titre</th>\n",
       "    </tr>\n",
       "  </thead>\n",
       "  <tbody>\n",
       "    <tr>\n",
       "      <th>1931-01-01</th>\n",
       "      <td>NaN</td>\n",
       "      <td>84.0</td>\n",
       "      <td>journaliste</td>\n",
       "      <td>tintin</td>\n",
       "      <td>Au congo</td>\n",
       "    </tr>\n",
       "    <tr>\n",
       "      <th>1931-01-02</th>\n",
       "      <td>NaN</td>\n",
       "      <td>81.0</td>\n",
       "      <td>capitaine</td>\n",
       "      <td>hadock</td>\n",
       "      <td>Cigares pharaon</td>\n",
       "    </tr>\n",
       "    <tr>\n",
       "      <th>1931-01-01</th>\n",
       "      <td>France</td>\n",
       "      <td>NaN</td>\n",
       "      <td>NaN</td>\n",
       "      <td>NaN</td>\n",
       "      <td>Au congo</td>\n",
       "    </tr>\n",
       "    <tr>\n",
       "      <th>1931-01-02</th>\n",
       "      <td>France</td>\n",
       "      <td>NaN</td>\n",
       "      <td>NaN</td>\n",
       "      <td>NaN</td>\n",
       "      <td>Cigares pharaon</td>\n",
       "    </tr>\n",
       "  </tbody>\n",
       "</table>\n",
       "</div>"
      ],
      "text/plain": [
       "           Origine   age      metiers    noms            titre\n",
       "1931-01-01     NaN  84.0  journaliste  tintin         Au congo\n",
       "1931-01-02     NaN  81.0    capitaine  hadock  Cigares pharaon\n",
       "1931-01-01  France   NaN          NaN     NaN         Au congo\n",
       "1931-01-02  France   NaN          NaN     NaN  Cigares pharaon"
      ]
     },
     "execution_count": 9,
     "metadata": {},
     "output_type": "execute_result"
    }
   ],
   "source": [
    "#ajout des lignes de l'une dans l'autre\n",
    "# crée des NaN et des colonnes \n",
    "# + redondance d'index\n",
    "new_df_2 = df.append(bds) \n",
    "new_df_2"
   ]
  },
  {
   "cell_type": "code",
   "execution_count": 10,
   "metadata": {
    "collapsed": false
   },
   "outputs": [
    {
     "data": {
      "text/html": [
       "<div>\n",
       "<table border=\"1\" class=\"dataframe\">\n",
       "  <thead>\n",
       "    <tr style=\"text-align: right;\">\n",
       "      <th></th>\n",
       "      <th>metiers</th>\n",
       "      <th>noms</th>\n",
       "      <th>age</th>\n",
       "      <th>titre</th>\n",
       "      <th>Origine</th>\n",
       "    </tr>\n",
       "  </thead>\n",
       "  <tbody>\n",
       "    <tr>\n",
       "      <th>0</th>\n",
       "      <td>journaliste</td>\n",
       "      <td>tintin</td>\n",
       "      <td>84</td>\n",
       "      <td>Au congo</td>\n",
       "      <td>France</td>\n",
       "    </tr>\n",
       "    <tr>\n",
       "      <th>1</th>\n",
       "      <td>capitaine</td>\n",
       "      <td>hadock</td>\n",
       "      <td>81</td>\n",
       "      <td>Cigares pharaon</td>\n",
       "      <td>France</td>\n",
       "    </tr>\n",
       "  </tbody>\n",
       "</table>\n",
       "</div>"
      ],
      "text/plain": [
       "       metiers    noms  age            titre Origine\n",
       "0  journaliste  tintin   84         Au congo  France\n",
       "1    capitaine  hadock   81  Cigares pharaon  France"
      ]
     },
     "execution_count": 10,
     "metadata": {},
     "output_type": "execute_result"
    }
   ],
   "source": [
    "# merge \"latéral\" en se basant sur l'index temporel\n",
    "new_df_1 = df.merge(bds)\n",
    "new_df_1"
   ]
  },
  {
   "cell_type": "code",
   "execution_count": 11,
   "metadata": {
    "collapsed": false
   },
   "outputs": [
    {
     "data": {
      "text/html": [
       "<div>\n",
       "<table border=\"1\" class=\"dataframe\">\n",
       "  <thead>\n",
       "    <tr style=\"text-align: right;\">\n",
       "      <th></th>\n",
       "      <th>metiers</th>\n",
       "      <th>noms</th>\n",
       "      <th>age</th>\n",
       "      <th>titre</th>\n",
       "      <th>Origine</th>\n",
       "      <th>titre</th>\n",
       "    </tr>\n",
       "  </thead>\n",
       "  <tbody>\n",
       "    <tr>\n",
       "      <th>1931-01-01</th>\n",
       "      <td>journaliste</td>\n",
       "      <td>tintin</td>\n",
       "      <td>84</td>\n",
       "      <td>Au congo</td>\n",
       "      <td>France</td>\n",
       "      <td>Au congo</td>\n",
       "    </tr>\n",
       "    <tr>\n",
       "      <th>1931-01-02</th>\n",
       "      <td>capitaine</td>\n",
       "      <td>hadock</td>\n",
       "      <td>81</td>\n",
       "      <td>Cigares pharaon</td>\n",
       "      <td>France</td>\n",
       "      <td>Cigares pharaon</td>\n",
       "    </tr>\n",
       "  </tbody>\n",
       "</table>\n",
       "</div>"
      ],
      "text/plain": [
       "                metiers    noms  age            titre Origine            titre\n",
       "1931-01-01  journaliste  tintin   84         Au congo  France         Au congo\n",
       "1931-01-02    capitaine  hadock   81  Cigares pharaon  France  Cigares pharaon"
      ]
     },
     "execution_count": 11,
     "metadata": {},
     "output_type": "execute_result"
    }
   ],
   "source": [
    "# concaténation en conservant l'index temporel\n",
    "# (on utilise pandas ! et non les df)\n",
    "new_df_3 = pd.concat([df, bds], axis=1)\n",
    "new_df_3"
   ]
  },
  {
   "cell_type": "code",
   "execution_count": 12,
   "metadata": {
    "collapsed": false
   },
   "outputs": [
    {
     "data": {
      "text/html": [
       "<div>\n",
       "<table border=\"1\" class=\"dataframe\">\n",
       "  <thead>\n",
       "    <tr style=\"text-align: right;\">\n",
       "      <th></th>\n",
       "      <th>metiers</th>\n",
       "      <th>noms</th>\n",
       "      <th>age</th>\n",
       "      <th>titre</th>\n",
       "      <th>Origine</th>\n",
       "      <th>titre</th>\n",
       "    </tr>\n",
       "  </thead>\n",
       "  <tbody>\n",
       "    <tr>\n",
       "      <th>1931-01-01</th>\n",
       "      <td>journaliste</td>\n",
       "      <td>tintin</td>\n",
       "      <td>84</td>\n",
       "      <td>Au congo</td>\n",
       "      <td>France</td>\n",
       "      <td>Au congo</td>\n",
       "    </tr>\n",
       "    <tr>\n",
       "      <th>1931-01-02</th>\n",
       "      <td>capitaine</td>\n",
       "      <td>hadock</td>\n",
       "      <td>81</td>\n",
       "      <td>Cigares pharaon</td>\n",
       "      <td>France</td>\n",
       "      <td>Cigares pharaon</td>\n",
       "    </tr>\n",
       "  </tbody>\n",
       "</table>\n",
       "</div>"
      ],
      "text/plain": [
       "                metiers    noms  age            titre Origine            titre\n",
       "1931-01-01  journaliste  tintin   84         Au congo  France         Au congo\n",
       "1931-01-02    capitaine  hadock   81  Cigares pharaon  France  Cigares pharaon"
      ]
     },
     "execution_count": 12,
     "metadata": {},
     "output_type": "execute_result"
    }
   ],
   "source": [
    "\n",
    "new_df_3"
   ]
  },
  {
   "cell_type": "code",
   "execution_count": 19,
   "metadata": {
    "collapsed": false
   },
   "outputs": [
    {
     "data": {
      "text/html": [
       "<div>\n",
       "<table border=\"1\" class=\"dataframe\">\n",
       "  <thead>\n",
       "    <tr style=\"text-align: right;\">\n",
       "      <th></th>\n",
       "      <th>metiers</th>\n",
       "      <th>noms</th>\n",
       "      <th>age</th>\n",
       "      <th>titre</th>\n",
       "      <th>Origine</th>\n",
       "      <th>titre</th>\n",
       "    </tr>\n",
       "  </thead>\n",
       "  <tbody>\n",
       "    <tr>\n",
       "      <th>1931-01-01</th>\n",
       "      <td>journaliste</td>\n",
       "      <td>tintin</td>\n",
       "      <td>84.0</td>\n",
       "      <td>Au congo</td>\n",
       "      <td>France</td>\n",
       "      <td>Au congo</td>\n",
       "    </tr>\n",
       "    <tr>\n",
       "      <th>1931-01-02</th>\n",
       "      <td>capitaine</td>\n",
       "      <td>hadock</td>\n",
       "      <td>81.0</td>\n",
       "      <td>Cigares pharaon</td>\n",
       "      <td>France</td>\n",
       "      <td>Cigares pharaon</td>\n",
       "    </tr>\n",
       "    <tr>\n",
       "      <th>1931-01-03</th>\n",
       "      <td>NaN</td>\n",
       "      <td>NaN</td>\n",
       "      <td>NaN</td>\n",
       "      <td>NaN</td>\n",
       "      <td>NaN</td>\n",
       "      <td>NaN</td>\n",
       "    </tr>\n",
       "    <tr>\n",
       "      <th>1931-01-04</th>\n",
       "      <td>NaN</td>\n",
       "      <td>NaN</td>\n",
       "      <td>NaN</td>\n",
       "      <td>NaN</td>\n",
       "      <td>NaN</td>\n",
       "      <td>NaN</td>\n",
       "    </tr>\n",
       "    <tr>\n",
       "      <th>1931-01-05</th>\n",
       "      <td>NaN</td>\n",
       "      <td>NaN</td>\n",
       "      <td>NaN</td>\n",
       "      <td>NaN</td>\n",
       "      <td>NaN</td>\n",
       "      <td>NaN</td>\n",
       "    </tr>\n",
       "  </tbody>\n",
       "</table>\n",
       "</div>"
      ],
      "text/plain": [
       "                metiers    noms   age            titre Origine  \\\n",
       "1931-01-01  journaliste  tintin  84.0         Au congo  France   \n",
       "1931-01-02    capitaine  hadock  81.0  Cigares pharaon  France   \n",
       "1931-01-03          NaN     NaN   NaN              NaN     NaN   \n",
       "1931-01-04          NaN     NaN   NaN              NaN     NaN   \n",
       "1931-01-05          NaN     NaN   NaN              NaN     NaN   \n",
       "\n",
       "                      titre  \n",
       "1931-01-01         Au congo  \n",
       "1931-01-02  Cigares pharaon  \n",
       "1931-01-03              NaN  \n",
       "1931-01-04              NaN  \n",
       "1931-01-05              NaN  "
      ]
     },
     "execution_count": 19,
     "metadata": {},
     "output_type": "execute_result"
    }
   ],
   "source": [
    "dates = pd.date_range( start = \"01/01/1931\" ,  end  =  \"01/02/1941\" )\n",
    "new_df_4 = new_df_3.reindex(dates)\n",
    "new_df_4.head()"
   ]
  },
  {
   "cell_type": "markdown",
   "metadata": {},
   "source": [
    "# Dans une dataframe temporelle\n",
    "# On peut sélectionner un groupe de lignes \n",
    "# Avec un sélecteur de temps qui en comprend plusieurs"
   ]
  },
  {
   "cell_type": "code",
   "execution_count": 22,
   "metadata": {
    "collapsed": false
   },
   "outputs": [
    {
     "data": {
      "text/html": [
       "<div>\n",
       "<table border=\"1\" class=\"dataframe\">\n",
       "  <thead>\n",
       "    <tr style=\"text-align: right;\">\n",
       "      <th></th>\n",
       "      <th>metiers</th>\n",
       "      <th>noms</th>\n",
       "      <th>age</th>\n",
       "      <th>titre</th>\n",
       "      <th>Origine</th>\n",
       "      <th>titre</th>\n",
       "    </tr>\n",
       "  </thead>\n",
       "  <tbody>\n",
       "    <tr>\n",
       "      <th>1931-10-01</th>\n",
       "      <td>NaN</td>\n",
       "      <td>NaN</td>\n",
       "      <td>NaN</td>\n",
       "      <td>NaN</td>\n",
       "      <td>NaN</td>\n",
       "      <td>NaN</td>\n",
       "    </tr>\n",
       "    <tr>\n",
       "      <th>1931-10-02</th>\n",
       "      <td>NaN</td>\n",
       "      <td>NaN</td>\n",
       "      <td>NaN</td>\n",
       "      <td>NaN</td>\n",
       "      <td>NaN</td>\n",
       "      <td>NaN</td>\n",
       "    </tr>\n",
       "    <tr>\n",
       "      <th>1931-10-03</th>\n",
       "      <td>NaN</td>\n",
       "      <td>NaN</td>\n",
       "      <td>NaN</td>\n",
       "      <td>NaN</td>\n",
       "      <td>NaN</td>\n",
       "      <td>NaN</td>\n",
       "    </tr>\n",
       "    <tr>\n",
       "      <th>1931-10-04</th>\n",
       "      <td>NaN</td>\n",
       "      <td>NaN</td>\n",
       "      <td>NaN</td>\n",
       "      <td>NaN</td>\n",
       "      <td>NaN</td>\n",
       "      <td>NaN</td>\n",
       "    </tr>\n",
       "    <tr>\n",
       "      <th>1931-10-05</th>\n",
       "      <td>NaN</td>\n",
       "      <td>NaN</td>\n",
       "      <td>NaN</td>\n",
       "      <td>NaN</td>\n",
       "      <td>NaN</td>\n",
       "      <td>NaN</td>\n",
       "    </tr>\n",
       "  </tbody>\n",
       "</table>\n",
       "</div>"
      ],
      "text/plain": [
       "           metiers noms  age titre Origine titre\n",
       "1931-10-01     NaN  NaN  NaN   NaN     NaN   NaN\n",
       "1931-10-02     NaN  NaN  NaN   NaN     NaN   NaN\n",
       "1931-10-03     NaN  NaN  NaN   NaN     NaN   NaN\n",
       "1931-10-04     NaN  NaN  NaN   NaN     NaN   NaN\n",
       "1931-10-05     NaN  NaN  NaN   NaN     NaN   NaN"
      ]
     },
     "execution_count": 22,
     "metadata": {},
     "output_type": "execute_result"
    }
   ],
   "source": [
    "new_df_4[\"1931-10\"].head() # sélection des lignes du mois d'octobre"
   ]
  },
  {
   "cell_type": "markdown",
   "metadata": {},
   "source": [
    "# Si on veut sélectionne une ligne on doit utiliser la fonction iloc"
   ]
  },
  {
   "cell_type": "code",
   "execution_count": 27,
   "metadata": {
    "collapsed": false
   },
   "outputs": [
    {
     "data": {
      "text/plain": [
       "metiers    NaN\n",
       "noms       NaN\n",
       "age        NaN\n",
       "titre      NaN\n",
       "Origine    NaN\n",
       "titre      NaN\n",
       "Name: 1931-10-02 00:00:00, dtype: object"
      ]
     },
     "execution_count": 27,
     "metadata": {},
     "output_type": "execute_result"
    }
   ],
   "source": [
    "new_df_4.loc[\"1931-10-02\"] # sélection des lignes du mois d'octobre"
   ]
  },
  {
   "cell_type": "code",
   "execution_count": null,
   "metadata": {
    "collapsed": true
   },
   "outputs": [],
   "source": []
  }
 ],
 "metadata": {
  "kernelspec": {
   "display_name": "Python [Root]",
   "language": "python",
   "name": "Python [Root]"
  },
  "language_info": {
   "codemirror_mode": {
    "name": "ipython",
    "version": 2
   },
   "file_extension": ".py",
   "mimetype": "text/x-python",
   "name": "python",
   "nbconvert_exporter": "python",
   "pygments_lexer": "ipython2",
   "version": "2.7.11"
  }
 },
 "nbformat": 4,
 "nbformat_minor": 0
}
